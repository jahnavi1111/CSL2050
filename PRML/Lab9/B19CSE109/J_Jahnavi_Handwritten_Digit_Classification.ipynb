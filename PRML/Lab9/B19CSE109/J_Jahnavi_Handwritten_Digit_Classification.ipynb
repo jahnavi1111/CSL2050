{
  "nbformat": 4,
  "nbformat_minor": 0,
  "metadata": {
    "colab": {
      "name": "J Jahnavi-Handwritten Digit Classification.ipynb",
      "provenance": [],
      "collapsed_sections": []
    },
    "kernelspec": {
      "name": "python3",
      "display_name": "Python 3"
    },
    "language_info": {
      "name": "python"
    }
  },
  "cells": [
    {
      "cell_type": "code",
      "metadata": {
        "id": "RXD4ZEhPaMOU"
      },
      "source": [
        "import pandas as pd\n",
        "import numpy as np\n",
        "import matplotlib.pyplot as plt\n",
        "import seaborn as sns\n",
        "import seaborn\n",
        "import re\n",
        "import string\n",
        "import nltk \n",
        "import warnings as wings"
      ],
      "execution_count": null,
      "outputs": []
    },
    {
      "cell_type": "code",
      "metadata": {
        "id": "OmwE1WiT19n-"
      },
      "source": [
        "from google.colab import drive\n",
        "drive.mount('/content/drive')"
      ],
      "execution_count": null,
      "outputs": []
    },
    {
      "cell_type": "markdown",
      "metadata": {
        "id": "ujLiAy-LqoeO"
      },
      "source": [
        "##Handwritten Digit Classification"
      ]
    },
    {
      "cell_type": "code",
      "metadata": {
        "id": "P6lKJfAycJHH"
      },
      "source": [
        "from sklearn.model_selection import GridSearchCV\n",
        "from sklearn.svm import SVC\n",
        "from sklearn.model_selection import train_test_split\n",
        "from sklearn.linear_model import Perceptron\n",
        "from sklearn.neighbors import KNeighborsClassifier\n",
        "from sklearn.preprocessing import StandardScaler"
      ],
      "execution_count": null,
      "outputs": []
    },
    {
      "cell_type": "code",
      "metadata": {
        "id": "6Jndb3yupq3R",
        "colab": {
          "base_uri": "https://localhost:8080/",
          "height": 422
        },
        "outputId": "a41998ac-7d2c-4851-c2e2-9d93a3ee7a33"
      },
      "source": [
        "file_path = '/content/drive/My Drive/data/mnist_train.csv'\n",
        "data = pd.read_csv(file_path)\n",
        "data"
      ],
      "execution_count": null,
      "outputs": [
        {
          "output_type": "execute_result",
          "data": {
            "text/html": [
              "<div>\n",
              "<style scoped>\n",
              "    .dataframe tbody tr th:only-of-type {\n",
              "        vertical-align: middle;\n",
              "    }\n",
              "\n",
              "    .dataframe tbody tr th {\n",
              "        vertical-align: top;\n",
              "    }\n",
              "\n",
              "    .dataframe thead th {\n",
              "        text-align: right;\n",
              "    }\n",
              "</style>\n",
              "<table border=\"1\" class=\"dataframe\">\n",
              "  <thead>\n",
              "    <tr style=\"text-align: right;\">\n",
              "      <th></th>\n",
              "      <th>label</th>\n",
              "      <th>1x1</th>\n",
              "      <th>1x2</th>\n",
              "      <th>1x3</th>\n",
              "      <th>1x4</th>\n",
              "      <th>1x5</th>\n",
              "      <th>1x6</th>\n",
              "      <th>1x7</th>\n",
              "      <th>1x8</th>\n",
              "      <th>1x9</th>\n",
              "      <th>1x10</th>\n",
              "      <th>1x11</th>\n",
              "      <th>1x12</th>\n",
              "      <th>1x13</th>\n",
              "      <th>1x14</th>\n",
              "      <th>1x15</th>\n",
              "      <th>1x16</th>\n",
              "      <th>1x17</th>\n",
              "      <th>1x18</th>\n",
              "      <th>1x19</th>\n",
              "      <th>1x20</th>\n",
              "      <th>1x21</th>\n",
              "      <th>1x22</th>\n",
              "      <th>1x23</th>\n",
              "      <th>1x24</th>\n",
              "      <th>1x25</th>\n",
              "      <th>1x26</th>\n",
              "      <th>1x27</th>\n",
              "      <th>1x28</th>\n",
              "      <th>2x1</th>\n",
              "      <th>2x2</th>\n",
              "      <th>2x3</th>\n",
              "      <th>2x4</th>\n",
              "      <th>2x5</th>\n",
              "      <th>2x6</th>\n",
              "      <th>2x7</th>\n",
              "      <th>2x8</th>\n",
              "      <th>2x9</th>\n",
              "      <th>2x10</th>\n",
              "      <th>2x11</th>\n",
              "      <th>...</th>\n",
              "      <th>27x17</th>\n",
              "      <th>27x18</th>\n",
              "      <th>27x19</th>\n",
              "      <th>27x20</th>\n",
              "      <th>27x21</th>\n",
              "      <th>27x22</th>\n",
              "      <th>27x23</th>\n",
              "      <th>27x24</th>\n",
              "      <th>27x25</th>\n",
              "      <th>27x26</th>\n",
              "      <th>27x27</th>\n",
              "      <th>27x28</th>\n",
              "      <th>28x1</th>\n",
              "      <th>28x2</th>\n",
              "      <th>28x3</th>\n",
              "      <th>28x4</th>\n",
              "      <th>28x5</th>\n",
              "      <th>28x6</th>\n",
              "      <th>28x7</th>\n",
              "      <th>28x8</th>\n",
              "      <th>28x9</th>\n",
              "      <th>28x10</th>\n",
              "      <th>28x11</th>\n",
              "      <th>28x12</th>\n",
              "      <th>28x13</th>\n",
              "      <th>28x14</th>\n",
              "      <th>28x15</th>\n",
              "      <th>28x16</th>\n",
              "      <th>28x17</th>\n",
              "      <th>28x18</th>\n",
              "      <th>28x19</th>\n",
              "      <th>28x20</th>\n",
              "      <th>28x21</th>\n",
              "      <th>28x22</th>\n",
              "      <th>28x23</th>\n",
              "      <th>28x24</th>\n",
              "      <th>28x25</th>\n",
              "      <th>28x26</th>\n",
              "      <th>28x27</th>\n",
              "      <th>28x28</th>\n",
              "    </tr>\n",
              "  </thead>\n",
              "  <tbody>\n",
              "    <tr>\n",
              "      <th>0</th>\n",
              "      <td>5</td>\n",
              "      <td>0</td>\n",
              "      <td>0</td>\n",
              "      <td>0</td>\n",
              "      <td>0</td>\n",
              "      <td>0</td>\n",
              "      <td>0</td>\n",
              "      <td>0</td>\n",
              "      <td>0</td>\n",
              "      <td>0</td>\n",
              "      <td>0</td>\n",
              "      <td>0</td>\n",
              "      <td>0</td>\n",
              "      <td>0</td>\n",
              "      <td>0</td>\n",
              "      <td>0</td>\n",
              "      <td>0</td>\n",
              "      <td>0</td>\n",
              "      <td>0</td>\n",
              "      <td>0</td>\n",
              "      <td>0</td>\n",
              "      <td>0</td>\n",
              "      <td>0</td>\n",
              "      <td>0</td>\n",
              "      <td>0</td>\n",
              "      <td>0</td>\n",
              "      <td>0</td>\n",
              "      <td>0</td>\n",
              "      <td>0</td>\n",
              "      <td>0</td>\n",
              "      <td>0</td>\n",
              "      <td>0</td>\n",
              "      <td>0</td>\n",
              "      <td>0</td>\n",
              "      <td>0</td>\n",
              "      <td>0</td>\n",
              "      <td>0</td>\n",
              "      <td>0</td>\n",
              "      <td>0</td>\n",
              "      <td>0</td>\n",
              "      <td>...</td>\n",
              "      <td>0</td>\n",
              "      <td>0</td>\n",
              "      <td>0</td>\n",
              "      <td>0</td>\n",
              "      <td>0</td>\n",
              "      <td>0</td>\n",
              "      <td>0</td>\n",
              "      <td>0</td>\n",
              "      <td>0</td>\n",
              "      <td>0</td>\n",
              "      <td>0</td>\n",
              "      <td>0</td>\n",
              "      <td>0</td>\n",
              "      <td>0</td>\n",
              "      <td>0</td>\n",
              "      <td>0</td>\n",
              "      <td>0</td>\n",
              "      <td>0</td>\n",
              "      <td>0</td>\n",
              "      <td>0</td>\n",
              "      <td>0</td>\n",
              "      <td>0</td>\n",
              "      <td>0</td>\n",
              "      <td>0</td>\n",
              "      <td>0</td>\n",
              "      <td>0</td>\n",
              "      <td>0</td>\n",
              "      <td>0</td>\n",
              "      <td>0</td>\n",
              "      <td>0</td>\n",
              "      <td>0</td>\n",
              "      <td>0</td>\n",
              "      <td>0</td>\n",
              "      <td>0</td>\n",
              "      <td>0</td>\n",
              "      <td>0</td>\n",
              "      <td>0</td>\n",
              "      <td>0</td>\n",
              "      <td>0</td>\n",
              "      <td>0</td>\n",
              "    </tr>\n",
              "    <tr>\n",
              "      <th>1</th>\n",
              "      <td>0</td>\n",
              "      <td>0</td>\n",
              "      <td>0</td>\n",
              "      <td>0</td>\n",
              "      <td>0</td>\n",
              "      <td>0</td>\n",
              "      <td>0</td>\n",
              "      <td>0</td>\n",
              "      <td>0</td>\n",
              "      <td>0</td>\n",
              "      <td>0</td>\n",
              "      <td>0</td>\n",
              "      <td>0</td>\n",
              "      <td>0</td>\n",
              "      <td>0</td>\n",
              "      <td>0</td>\n",
              "      <td>0</td>\n",
              "      <td>0</td>\n",
              "      <td>0</td>\n",
              "      <td>0</td>\n",
              "      <td>0</td>\n",
              "      <td>0</td>\n",
              "      <td>0</td>\n",
              "      <td>0</td>\n",
              "      <td>0</td>\n",
              "      <td>0</td>\n",
              "      <td>0</td>\n",
              "      <td>0</td>\n",
              "      <td>0</td>\n",
              "      <td>0</td>\n",
              "      <td>0</td>\n",
              "      <td>0</td>\n",
              "      <td>0</td>\n",
              "      <td>0</td>\n",
              "      <td>0</td>\n",
              "      <td>0</td>\n",
              "      <td>0</td>\n",
              "      <td>0</td>\n",
              "      <td>0</td>\n",
              "      <td>0</td>\n",
              "      <td>...</td>\n",
              "      <td>0</td>\n",
              "      <td>0</td>\n",
              "      <td>0</td>\n",
              "      <td>0</td>\n",
              "      <td>0</td>\n",
              "      <td>0</td>\n",
              "      <td>0</td>\n",
              "      <td>0</td>\n",
              "      <td>0</td>\n",
              "      <td>0</td>\n",
              "      <td>0</td>\n",
              "      <td>0</td>\n",
              "      <td>0</td>\n",
              "      <td>0</td>\n",
              "      <td>0</td>\n",
              "      <td>0</td>\n",
              "      <td>0</td>\n",
              "      <td>0</td>\n",
              "      <td>0</td>\n",
              "      <td>0</td>\n",
              "      <td>0</td>\n",
              "      <td>0</td>\n",
              "      <td>0</td>\n",
              "      <td>0</td>\n",
              "      <td>0</td>\n",
              "      <td>0</td>\n",
              "      <td>0</td>\n",
              "      <td>0</td>\n",
              "      <td>0</td>\n",
              "      <td>0</td>\n",
              "      <td>0</td>\n",
              "      <td>0</td>\n",
              "      <td>0</td>\n",
              "      <td>0</td>\n",
              "      <td>0</td>\n",
              "      <td>0</td>\n",
              "      <td>0</td>\n",
              "      <td>0</td>\n",
              "      <td>0</td>\n",
              "      <td>0</td>\n",
              "    </tr>\n",
              "    <tr>\n",
              "      <th>2</th>\n",
              "      <td>4</td>\n",
              "      <td>0</td>\n",
              "      <td>0</td>\n",
              "      <td>0</td>\n",
              "      <td>0</td>\n",
              "      <td>0</td>\n",
              "      <td>0</td>\n",
              "      <td>0</td>\n",
              "      <td>0</td>\n",
              "      <td>0</td>\n",
              "      <td>0</td>\n",
              "      <td>0</td>\n",
              "      <td>0</td>\n",
              "      <td>0</td>\n",
              "      <td>0</td>\n",
              "      <td>0</td>\n",
              "      <td>0</td>\n",
              "      <td>0</td>\n",
              "      <td>0</td>\n",
              "      <td>0</td>\n",
              "      <td>0</td>\n",
              "      <td>0</td>\n",
              "      <td>0</td>\n",
              "      <td>0</td>\n",
              "      <td>0</td>\n",
              "      <td>0</td>\n",
              "      <td>0</td>\n",
              "      <td>0</td>\n",
              "      <td>0</td>\n",
              "      <td>0</td>\n",
              "      <td>0</td>\n",
              "      <td>0</td>\n",
              "      <td>0</td>\n",
              "      <td>0</td>\n",
              "      <td>0</td>\n",
              "      <td>0</td>\n",
              "      <td>0</td>\n",
              "      <td>0</td>\n",
              "      <td>0</td>\n",
              "      <td>0</td>\n",
              "      <td>...</td>\n",
              "      <td>0</td>\n",
              "      <td>0</td>\n",
              "      <td>0</td>\n",
              "      <td>0</td>\n",
              "      <td>0</td>\n",
              "      <td>0</td>\n",
              "      <td>0</td>\n",
              "      <td>0</td>\n",
              "      <td>0</td>\n",
              "      <td>0</td>\n",
              "      <td>0</td>\n",
              "      <td>0</td>\n",
              "      <td>0</td>\n",
              "      <td>0</td>\n",
              "      <td>0</td>\n",
              "      <td>0</td>\n",
              "      <td>0</td>\n",
              "      <td>0</td>\n",
              "      <td>0</td>\n",
              "      <td>0</td>\n",
              "      <td>0</td>\n",
              "      <td>0</td>\n",
              "      <td>0</td>\n",
              "      <td>0</td>\n",
              "      <td>0</td>\n",
              "      <td>0</td>\n",
              "      <td>0</td>\n",
              "      <td>0</td>\n",
              "      <td>0</td>\n",
              "      <td>0</td>\n",
              "      <td>0</td>\n",
              "      <td>0</td>\n",
              "      <td>0</td>\n",
              "      <td>0</td>\n",
              "      <td>0</td>\n",
              "      <td>0</td>\n",
              "      <td>0</td>\n",
              "      <td>0</td>\n",
              "      <td>0</td>\n",
              "      <td>0</td>\n",
              "    </tr>\n",
              "    <tr>\n",
              "      <th>3</th>\n",
              "      <td>1</td>\n",
              "      <td>0</td>\n",
              "      <td>0</td>\n",
              "      <td>0</td>\n",
              "      <td>0</td>\n",
              "      <td>0</td>\n",
              "      <td>0</td>\n",
              "      <td>0</td>\n",
              "      <td>0</td>\n",
              "      <td>0</td>\n",
              "      <td>0</td>\n",
              "      <td>0</td>\n",
              "      <td>0</td>\n",
              "      <td>0</td>\n",
              "      <td>0</td>\n",
              "      <td>0</td>\n",
              "      <td>0</td>\n",
              "      <td>0</td>\n",
              "      <td>0</td>\n",
              "      <td>0</td>\n",
              "      <td>0</td>\n",
              "      <td>0</td>\n",
              "      <td>0</td>\n",
              "      <td>0</td>\n",
              "      <td>0</td>\n",
              "      <td>0</td>\n",
              "      <td>0</td>\n",
              "      <td>0</td>\n",
              "      <td>0</td>\n",
              "      <td>0</td>\n",
              "      <td>0</td>\n",
              "      <td>0</td>\n",
              "      <td>0</td>\n",
              "      <td>0</td>\n",
              "      <td>0</td>\n",
              "      <td>0</td>\n",
              "      <td>0</td>\n",
              "      <td>0</td>\n",
              "      <td>0</td>\n",
              "      <td>0</td>\n",
              "      <td>...</td>\n",
              "      <td>0</td>\n",
              "      <td>0</td>\n",
              "      <td>0</td>\n",
              "      <td>0</td>\n",
              "      <td>0</td>\n",
              "      <td>0</td>\n",
              "      <td>0</td>\n",
              "      <td>0</td>\n",
              "      <td>0</td>\n",
              "      <td>0</td>\n",
              "      <td>0</td>\n",
              "      <td>0</td>\n",
              "      <td>0</td>\n",
              "      <td>0</td>\n",
              "      <td>0</td>\n",
              "      <td>0</td>\n",
              "      <td>0</td>\n",
              "      <td>0</td>\n",
              "      <td>0</td>\n",
              "      <td>0</td>\n",
              "      <td>0</td>\n",
              "      <td>0</td>\n",
              "      <td>0</td>\n",
              "      <td>0</td>\n",
              "      <td>0</td>\n",
              "      <td>0</td>\n",
              "      <td>0</td>\n",
              "      <td>0</td>\n",
              "      <td>0</td>\n",
              "      <td>0</td>\n",
              "      <td>0</td>\n",
              "      <td>0</td>\n",
              "      <td>0</td>\n",
              "      <td>0</td>\n",
              "      <td>0</td>\n",
              "      <td>0</td>\n",
              "      <td>0</td>\n",
              "      <td>0</td>\n",
              "      <td>0</td>\n",
              "      <td>0</td>\n",
              "    </tr>\n",
              "    <tr>\n",
              "      <th>4</th>\n",
              "      <td>9</td>\n",
              "      <td>0</td>\n",
              "      <td>0</td>\n",
              "      <td>0</td>\n",
              "      <td>0</td>\n",
              "      <td>0</td>\n",
              "      <td>0</td>\n",
              "      <td>0</td>\n",
              "      <td>0</td>\n",
              "      <td>0</td>\n",
              "      <td>0</td>\n",
              "      <td>0</td>\n",
              "      <td>0</td>\n",
              "      <td>0</td>\n",
              "      <td>0</td>\n",
              "      <td>0</td>\n",
              "      <td>0</td>\n",
              "      <td>0</td>\n",
              "      <td>0</td>\n",
              "      <td>0</td>\n",
              "      <td>0</td>\n",
              "      <td>0</td>\n",
              "      <td>0</td>\n",
              "      <td>0</td>\n",
              "      <td>0</td>\n",
              "      <td>0</td>\n",
              "      <td>0</td>\n",
              "      <td>0</td>\n",
              "      <td>0</td>\n",
              "      <td>0</td>\n",
              "      <td>0</td>\n",
              "      <td>0</td>\n",
              "      <td>0</td>\n",
              "      <td>0</td>\n",
              "      <td>0</td>\n",
              "      <td>0</td>\n",
              "      <td>0</td>\n",
              "      <td>0</td>\n",
              "      <td>0</td>\n",
              "      <td>0</td>\n",
              "      <td>...</td>\n",
              "      <td>147</td>\n",
              "      <td>252</td>\n",
              "      <td>42</td>\n",
              "      <td>0</td>\n",
              "      <td>0</td>\n",
              "      <td>0</td>\n",
              "      <td>0</td>\n",
              "      <td>0</td>\n",
              "      <td>0</td>\n",
              "      <td>0</td>\n",
              "      <td>0</td>\n",
              "      <td>0</td>\n",
              "      <td>0</td>\n",
              "      <td>0</td>\n",
              "      <td>0</td>\n",
              "      <td>0</td>\n",
              "      <td>0</td>\n",
              "      <td>0</td>\n",
              "      <td>0</td>\n",
              "      <td>0</td>\n",
              "      <td>0</td>\n",
              "      <td>0</td>\n",
              "      <td>0</td>\n",
              "      <td>0</td>\n",
              "      <td>0</td>\n",
              "      <td>0</td>\n",
              "      <td>0</td>\n",
              "      <td>0</td>\n",
              "      <td>0</td>\n",
              "      <td>0</td>\n",
              "      <td>0</td>\n",
              "      <td>0</td>\n",
              "      <td>0</td>\n",
              "      <td>0</td>\n",
              "      <td>0</td>\n",
              "      <td>0</td>\n",
              "      <td>0</td>\n",
              "      <td>0</td>\n",
              "      <td>0</td>\n",
              "      <td>0</td>\n",
              "    </tr>\n",
              "    <tr>\n",
              "      <th>...</th>\n",
              "      <td>...</td>\n",
              "      <td>...</td>\n",
              "      <td>...</td>\n",
              "      <td>...</td>\n",
              "      <td>...</td>\n",
              "      <td>...</td>\n",
              "      <td>...</td>\n",
              "      <td>...</td>\n",
              "      <td>...</td>\n",
              "      <td>...</td>\n",
              "      <td>...</td>\n",
              "      <td>...</td>\n",
              "      <td>...</td>\n",
              "      <td>...</td>\n",
              "      <td>...</td>\n",
              "      <td>...</td>\n",
              "      <td>...</td>\n",
              "      <td>...</td>\n",
              "      <td>...</td>\n",
              "      <td>...</td>\n",
              "      <td>...</td>\n",
              "      <td>...</td>\n",
              "      <td>...</td>\n",
              "      <td>...</td>\n",
              "      <td>...</td>\n",
              "      <td>...</td>\n",
              "      <td>...</td>\n",
              "      <td>...</td>\n",
              "      <td>...</td>\n",
              "      <td>...</td>\n",
              "      <td>...</td>\n",
              "      <td>...</td>\n",
              "      <td>...</td>\n",
              "      <td>...</td>\n",
              "      <td>...</td>\n",
              "      <td>...</td>\n",
              "      <td>...</td>\n",
              "      <td>...</td>\n",
              "      <td>...</td>\n",
              "      <td>...</td>\n",
              "      <td>...</td>\n",
              "      <td>...</td>\n",
              "      <td>...</td>\n",
              "      <td>...</td>\n",
              "      <td>...</td>\n",
              "      <td>...</td>\n",
              "      <td>...</td>\n",
              "      <td>...</td>\n",
              "      <td>...</td>\n",
              "      <td>...</td>\n",
              "      <td>...</td>\n",
              "      <td>...</td>\n",
              "      <td>...</td>\n",
              "      <td>...</td>\n",
              "      <td>...</td>\n",
              "      <td>...</td>\n",
              "      <td>...</td>\n",
              "      <td>...</td>\n",
              "      <td>...</td>\n",
              "      <td>...</td>\n",
              "      <td>...</td>\n",
              "      <td>...</td>\n",
              "      <td>...</td>\n",
              "      <td>...</td>\n",
              "      <td>...</td>\n",
              "      <td>...</td>\n",
              "      <td>...</td>\n",
              "      <td>...</td>\n",
              "      <td>...</td>\n",
              "      <td>...</td>\n",
              "      <td>...</td>\n",
              "      <td>...</td>\n",
              "      <td>...</td>\n",
              "      <td>...</td>\n",
              "      <td>...</td>\n",
              "      <td>...</td>\n",
              "      <td>...</td>\n",
              "      <td>...</td>\n",
              "      <td>...</td>\n",
              "      <td>...</td>\n",
              "      <td>...</td>\n",
              "    </tr>\n",
              "    <tr>\n",
              "      <th>59995</th>\n",
              "      <td>8</td>\n",
              "      <td>0</td>\n",
              "      <td>0</td>\n",
              "      <td>0</td>\n",
              "      <td>0</td>\n",
              "      <td>0</td>\n",
              "      <td>0</td>\n",
              "      <td>0</td>\n",
              "      <td>0</td>\n",
              "      <td>0</td>\n",
              "      <td>0</td>\n",
              "      <td>0</td>\n",
              "      <td>0</td>\n",
              "      <td>0</td>\n",
              "      <td>0</td>\n",
              "      <td>0</td>\n",
              "      <td>0</td>\n",
              "      <td>0</td>\n",
              "      <td>0</td>\n",
              "      <td>0</td>\n",
              "      <td>0</td>\n",
              "      <td>0</td>\n",
              "      <td>0</td>\n",
              "      <td>0</td>\n",
              "      <td>0</td>\n",
              "      <td>0</td>\n",
              "      <td>0</td>\n",
              "      <td>0</td>\n",
              "      <td>0</td>\n",
              "      <td>0</td>\n",
              "      <td>0</td>\n",
              "      <td>0</td>\n",
              "      <td>0</td>\n",
              "      <td>0</td>\n",
              "      <td>0</td>\n",
              "      <td>0</td>\n",
              "      <td>0</td>\n",
              "      <td>0</td>\n",
              "      <td>0</td>\n",
              "      <td>0</td>\n",
              "      <td>...</td>\n",
              "      <td>0</td>\n",
              "      <td>0</td>\n",
              "      <td>0</td>\n",
              "      <td>0</td>\n",
              "      <td>0</td>\n",
              "      <td>0</td>\n",
              "      <td>0</td>\n",
              "      <td>0</td>\n",
              "      <td>0</td>\n",
              "      <td>0</td>\n",
              "      <td>0</td>\n",
              "      <td>0</td>\n",
              "      <td>0</td>\n",
              "      <td>0</td>\n",
              "      <td>0</td>\n",
              "      <td>0</td>\n",
              "      <td>0</td>\n",
              "      <td>0</td>\n",
              "      <td>0</td>\n",
              "      <td>0</td>\n",
              "      <td>0</td>\n",
              "      <td>0</td>\n",
              "      <td>0</td>\n",
              "      <td>0</td>\n",
              "      <td>0</td>\n",
              "      <td>0</td>\n",
              "      <td>0</td>\n",
              "      <td>0</td>\n",
              "      <td>0</td>\n",
              "      <td>0</td>\n",
              "      <td>0</td>\n",
              "      <td>0</td>\n",
              "      <td>0</td>\n",
              "      <td>0</td>\n",
              "      <td>0</td>\n",
              "      <td>0</td>\n",
              "      <td>0</td>\n",
              "      <td>0</td>\n",
              "      <td>0</td>\n",
              "      <td>0</td>\n",
              "    </tr>\n",
              "    <tr>\n",
              "      <th>59996</th>\n",
              "      <td>3</td>\n",
              "      <td>0</td>\n",
              "      <td>0</td>\n",
              "      <td>0</td>\n",
              "      <td>0</td>\n",
              "      <td>0</td>\n",
              "      <td>0</td>\n",
              "      <td>0</td>\n",
              "      <td>0</td>\n",
              "      <td>0</td>\n",
              "      <td>0</td>\n",
              "      <td>0</td>\n",
              "      <td>0</td>\n",
              "      <td>0</td>\n",
              "      <td>0</td>\n",
              "      <td>0</td>\n",
              "      <td>0</td>\n",
              "      <td>0</td>\n",
              "      <td>0</td>\n",
              "      <td>0</td>\n",
              "      <td>0</td>\n",
              "      <td>0</td>\n",
              "      <td>0</td>\n",
              "      <td>0</td>\n",
              "      <td>0</td>\n",
              "      <td>0</td>\n",
              "      <td>0</td>\n",
              "      <td>0</td>\n",
              "      <td>0</td>\n",
              "      <td>0</td>\n",
              "      <td>0</td>\n",
              "      <td>0</td>\n",
              "      <td>0</td>\n",
              "      <td>0</td>\n",
              "      <td>0</td>\n",
              "      <td>0</td>\n",
              "      <td>0</td>\n",
              "      <td>0</td>\n",
              "      <td>0</td>\n",
              "      <td>0</td>\n",
              "      <td>...</td>\n",
              "      <td>0</td>\n",
              "      <td>0</td>\n",
              "      <td>0</td>\n",
              "      <td>0</td>\n",
              "      <td>0</td>\n",
              "      <td>0</td>\n",
              "      <td>0</td>\n",
              "      <td>0</td>\n",
              "      <td>0</td>\n",
              "      <td>0</td>\n",
              "      <td>0</td>\n",
              "      <td>0</td>\n",
              "      <td>0</td>\n",
              "      <td>0</td>\n",
              "      <td>0</td>\n",
              "      <td>0</td>\n",
              "      <td>0</td>\n",
              "      <td>0</td>\n",
              "      <td>0</td>\n",
              "      <td>0</td>\n",
              "      <td>0</td>\n",
              "      <td>0</td>\n",
              "      <td>0</td>\n",
              "      <td>0</td>\n",
              "      <td>0</td>\n",
              "      <td>0</td>\n",
              "      <td>0</td>\n",
              "      <td>0</td>\n",
              "      <td>0</td>\n",
              "      <td>0</td>\n",
              "      <td>0</td>\n",
              "      <td>0</td>\n",
              "      <td>0</td>\n",
              "      <td>0</td>\n",
              "      <td>0</td>\n",
              "      <td>0</td>\n",
              "      <td>0</td>\n",
              "      <td>0</td>\n",
              "      <td>0</td>\n",
              "      <td>0</td>\n",
              "    </tr>\n",
              "    <tr>\n",
              "      <th>59997</th>\n",
              "      <td>5</td>\n",
              "      <td>0</td>\n",
              "      <td>0</td>\n",
              "      <td>0</td>\n",
              "      <td>0</td>\n",
              "      <td>0</td>\n",
              "      <td>0</td>\n",
              "      <td>0</td>\n",
              "      <td>0</td>\n",
              "      <td>0</td>\n",
              "      <td>0</td>\n",
              "      <td>0</td>\n",
              "      <td>0</td>\n",
              "      <td>0</td>\n",
              "      <td>0</td>\n",
              "      <td>0</td>\n",
              "      <td>0</td>\n",
              "      <td>0</td>\n",
              "      <td>0</td>\n",
              "      <td>0</td>\n",
              "      <td>0</td>\n",
              "      <td>0</td>\n",
              "      <td>0</td>\n",
              "      <td>0</td>\n",
              "      <td>0</td>\n",
              "      <td>0</td>\n",
              "      <td>0</td>\n",
              "      <td>0</td>\n",
              "      <td>0</td>\n",
              "      <td>0</td>\n",
              "      <td>0</td>\n",
              "      <td>0</td>\n",
              "      <td>0</td>\n",
              "      <td>0</td>\n",
              "      <td>0</td>\n",
              "      <td>0</td>\n",
              "      <td>0</td>\n",
              "      <td>0</td>\n",
              "      <td>0</td>\n",
              "      <td>0</td>\n",
              "      <td>...</td>\n",
              "      <td>0</td>\n",
              "      <td>0</td>\n",
              "      <td>0</td>\n",
              "      <td>0</td>\n",
              "      <td>0</td>\n",
              "      <td>0</td>\n",
              "      <td>0</td>\n",
              "      <td>0</td>\n",
              "      <td>0</td>\n",
              "      <td>0</td>\n",
              "      <td>0</td>\n",
              "      <td>0</td>\n",
              "      <td>0</td>\n",
              "      <td>0</td>\n",
              "      <td>0</td>\n",
              "      <td>0</td>\n",
              "      <td>0</td>\n",
              "      <td>0</td>\n",
              "      <td>0</td>\n",
              "      <td>0</td>\n",
              "      <td>0</td>\n",
              "      <td>0</td>\n",
              "      <td>0</td>\n",
              "      <td>0</td>\n",
              "      <td>0</td>\n",
              "      <td>0</td>\n",
              "      <td>0</td>\n",
              "      <td>0</td>\n",
              "      <td>0</td>\n",
              "      <td>0</td>\n",
              "      <td>0</td>\n",
              "      <td>0</td>\n",
              "      <td>0</td>\n",
              "      <td>0</td>\n",
              "      <td>0</td>\n",
              "      <td>0</td>\n",
              "      <td>0</td>\n",
              "      <td>0</td>\n",
              "      <td>0</td>\n",
              "      <td>0</td>\n",
              "    </tr>\n",
              "    <tr>\n",
              "      <th>59998</th>\n",
              "      <td>6</td>\n",
              "      <td>0</td>\n",
              "      <td>0</td>\n",
              "      <td>0</td>\n",
              "      <td>0</td>\n",
              "      <td>0</td>\n",
              "      <td>0</td>\n",
              "      <td>0</td>\n",
              "      <td>0</td>\n",
              "      <td>0</td>\n",
              "      <td>0</td>\n",
              "      <td>0</td>\n",
              "      <td>0</td>\n",
              "      <td>0</td>\n",
              "      <td>0</td>\n",
              "      <td>0</td>\n",
              "      <td>0</td>\n",
              "      <td>0</td>\n",
              "      <td>0</td>\n",
              "      <td>0</td>\n",
              "      <td>0</td>\n",
              "      <td>0</td>\n",
              "      <td>0</td>\n",
              "      <td>0</td>\n",
              "      <td>0</td>\n",
              "      <td>0</td>\n",
              "      <td>0</td>\n",
              "      <td>0</td>\n",
              "      <td>0</td>\n",
              "      <td>0</td>\n",
              "      <td>0</td>\n",
              "      <td>0</td>\n",
              "      <td>0</td>\n",
              "      <td>0</td>\n",
              "      <td>0</td>\n",
              "      <td>0</td>\n",
              "      <td>0</td>\n",
              "      <td>0</td>\n",
              "      <td>0</td>\n",
              "      <td>0</td>\n",
              "      <td>...</td>\n",
              "      <td>0</td>\n",
              "      <td>0</td>\n",
              "      <td>0</td>\n",
              "      <td>0</td>\n",
              "      <td>0</td>\n",
              "      <td>0</td>\n",
              "      <td>0</td>\n",
              "      <td>0</td>\n",
              "      <td>0</td>\n",
              "      <td>0</td>\n",
              "      <td>0</td>\n",
              "      <td>0</td>\n",
              "      <td>0</td>\n",
              "      <td>0</td>\n",
              "      <td>0</td>\n",
              "      <td>0</td>\n",
              "      <td>0</td>\n",
              "      <td>0</td>\n",
              "      <td>0</td>\n",
              "      <td>0</td>\n",
              "      <td>0</td>\n",
              "      <td>0</td>\n",
              "      <td>0</td>\n",
              "      <td>0</td>\n",
              "      <td>0</td>\n",
              "      <td>0</td>\n",
              "      <td>0</td>\n",
              "      <td>0</td>\n",
              "      <td>0</td>\n",
              "      <td>0</td>\n",
              "      <td>0</td>\n",
              "      <td>0</td>\n",
              "      <td>0</td>\n",
              "      <td>0</td>\n",
              "      <td>0</td>\n",
              "      <td>0</td>\n",
              "      <td>0</td>\n",
              "      <td>0</td>\n",
              "      <td>0</td>\n",
              "      <td>0</td>\n",
              "    </tr>\n",
              "    <tr>\n",
              "      <th>59999</th>\n",
              "      <td>8</td>\n",
              "      <td>0</td>\n",
              "      <td>0</td>\n",
              "      <td>0</td>\n",
              "      <td>0</td>\n",
              "      <td>0</td>\n",
              "      <td>0</td>\n",
              "      <td>0</td>\n",
              "      <td>0</td>\n",
              "      <td>0</td>\n",
              "      <td>0</td>\n",
              "      <td>0</td>\n",
              "      <td>0</td>\n",
              "      <td>0</td>\n",
              "      <td>0</td>\n",
              "      <td>0</td>\n",
              "      <td>0</td>\n",
              "      <td>0</td>\n",
              "      <td>0</td>\n",
              "      <td>0</td>\n",
              "      <td>0</td>\n",
              "      <td>0</td>\n",
              "      <td>0</td>\n",
              "      <td>0</td>\n",
              "      <td>0</td>\n",
              "      <td>0</td>\n",
              "      <td>0</td>\n",
              "      <td>0</td>\n",
              "      <td>0</td>\n",
              "      <td>0</td>\n",
              "      <td>0</td>\n",
              "      <td>0</td>\n",
              "      <td>0</td>\n",
              "      <td>0</td>\n",
              "      <td>0</td>\n",
              "      <td>0</td>\n",
              "      <td>0</td>\n",
              "      <td>0</td>\n",
              "      <td>0</td>\n",
              "      <td>0</td>\n",
              "      <td>...</td>\n",
              "      <td>0</td>\n",
              "      <td>0</td>\n",
              "      <td>0</td>\n",
              "      <td>0</td>\n",
              "      <td>0</td>\n",
              "      <td>0</td>\n",
              "      <td>0</td>\n",
              "      <td>0</td>\n",
              "      <td>0</td>\n",
              "      <td>0</td>\n",
              "      <td>0</td>\n",
              "      <td>0</td>\n",
              "      <td>0</td>\n",
              "      <td>0</td>\n",
              "      <td>0</td>\n",
              "      <td>0</td>\n",
              "      <td>0</td>\n",
              "      <td>0</td>\n",
              "      <td>0</td>\n",
              "      <td>0</td>\n",
              "      <td>0</td>\n",
              "      <td>0</td>\n",
              "      <td>0</td>\n",
              "      <td>0</td>\n",
              "      <td>0</td>\n",
              "      <td>0</td>\n",
              "      <td>0</td>\n",
              "      <td>0</td>\n",
              "      <td>0</td>\n",
              "      <td>0</td>\n",
              "      <td>0</td>\n",
              "      <td>0</td>\n",
              "      <td>0</td>\n",
              "      <td>0</td>\n",
              "      <td>0</td>\n",
              "      <td>0</td>\n",
              "      <td>0</td>\n",
              "      <td>0</td>\n",
              "      <td>0</td>\n",
              "      <td>0</td>\n",
              "    </tr>\n",
              "  </tbody>\n",
              "</table>\n",
              "<p>60000 rows × 785 columns</p>\n",
              "</div>"
            ],
            "text/plain": [
              "       label  1x1  1x2  1x3  1x4  1x5  ...  28x23  28x24  28x25  28x26  28x27  28x28\n",
              "0          5    0    0    0    0    0  ...      0      0      0      0      0      0\n",
              "1          0    0    0    0    0    0  ...      0      0      0      0      0      0\n",
              "2          4    0    0    0    0    0  ...      0      0      0      0      0      0\n",
              "3          1    0    0    0    0    0  ...      0      0      0      0      0      0\n",
              "4          9    0    0    0    0    0  ...      0      0      0      0      0      0\n",
              "...      ...  ...  ...  ...  ...  ...  ...    ...    ...    ...    ...    ...    ...\n",
              "59995      8    0    0    0    0    0  ...      0      0      0      0      0      0\n",
              "59996      3    0    0    0    0    0  ...      0      0      0      0      0      0\n",
              "59997      5    0    0    0    0    0  ...      0      0      0      0      0      0\n",
              "59998      6    0    0    0    0    0  ...      0      0      0      0      0      0\n",
              "59999      8    0    0    0    0    0  ...      0      0      0      0      0      0\n",
              "\n",
              "[60000 rows x 785 columns]"
            ]
          },
          "metadata": {
            "tags": []
          },
          "execution_count": 10
        }
      ]
    },
    {
      "cell_type": "code",
      "metadata": {
        "id": "ME5tI1CybA9h"
      },
      "source": [
        "data = data[data['label'] <= 4]"
      ],
      "execution_count": null,
      "outputs": []
    },
    {
      "cell_type": "code",
      "metadata": {
        "id": "NrnA33DgqlFX"
      },
      "source": [
        "features = list(data.columns[1:])\n",
        "x = data[features]\n",
        "y = data[['label']]"
      ],
      "execution_count": null,
      "outputs": []
    },
    {
      "cell_type": "code",
      "metadata": {
        "colab": {
          "base_uri": "https://localhost:8080/",
          "height": 248
        },
        "id": "JOnjOQhyrAY2",
        "outputId": "5cd15e57-bb5d-4962-a1e8-22aba1bcd59e"
      },
      "source": [
        "mylabels = [0,1,2,3,4]\n",
        "myexplode = [0.1, 0.1, 0.1, 0.1, 0.1]\n",
        "\n",
        "plt.pie(y.value_counts(),autopct=\"%.1f%%\", shadow = True, labels= mylabels, explode= myexplode)\n",
        "plt.show() "
      ],
      "execution_count": null,
      "outputs": [
        {
          "output_type": "display_data",
          "data": {
            "image/png": "[encoded data removed]",
            "text/plain": [
              "<Figure size 432x288 with 1 Axes>"
            ]
          },
          "metadata": {
            "tags": []
          }
        }
      ]
    },
    {
      "cell_type": "code",
      "metadata": {
        "id": "9ylnPYkObAxw"
      },
      "source": [
        "x_train, x_test, y_train, y_test = train_test_split(x, y, test_size=0.3)\n",
        "x_validation, x_test, y_validation, y_test = train_test_split(x_test, y_test, test_size=0.34) \n"
      ],
      "execution_count": null,
      "outputs": []
    },
    {
      "cell_type": "code",
      "metadata": {
        "colab": {
          "base_uri": "https://localhost:8080/"
        },
        "id": "eGoA9fDfstng",
        "outputId": "4c97a4b9-62dd-4671-86d5-4c1b9b1de86c"
      },
      "source": [
        "print(\"Shapes:\")\n",
        "print(\"Training set = \",x_train.shape)\n",
        "print(\"Validation set = \",x_validation.shape)\n",
        "print(\"Testing set = \",x_test.shape)"
      ],
      "execution_count": null,
      "outputs": [
        {
          "output_type": "stream",
          "text": [
            "Shapes:\n",
            "Training set =  (21417, 784)\n",
            "Validation set =  (6058, 784)\n",
            "Testing set =  (3121, 784)\n"
          ],
          "name": "stdout"
        }
      ]
    },
    {
      "cell_type": "markdown",
      "metadata": {
        "id": "84iKLR77tFEr"
      },
      "source": [
        "SVM"
      ]
    },
    {
      "cell_type": "code",
      "metadata": {
        "colab": {
          "base_uri": "https://localhost:8080/"
        },
        "id": "r4sFXx58tqNU",
        "outputId": "9c960700-2c6e-437d-ae40-6f7d4399b828"
      },
      "source": [
        "svc = SVC()\n",
        "svc.fit(x_train,y_train.values.ravel())"
      ],
      "execution_count": null,
      "outputs": [
        {
          "output_type": "execute_result",
          "data": {
            "text/plain": [
              "SVC(C=1.0, break_ties=False, cache_size=200, class_weight=None, coef0=0.0,\n",
              "    decision_function_shape='ovr', degree=3, gamma='scale', kernel='rbf',\n",
              "    max_iter=-1, probability=False, random_state=None, shrinking=True,\n",
              "    tol=0.001, verbose=False)"
            ]
          },
          "metadata": {
            "tags": []
          },
          "execution_count": 36
        }
      ]
    },
    {
      "cell_type": "code",
      "metadata": {
        "colab": {
          "base_uri": "https://localhost:8080/"
        },
        "id": "1BS-AqVttyHt",
        "outputId": "d42a0b26-2458-4eb5-9b9e-a445c360b8da"
      },
      "source": [
        "print(\"Train Accuracy before validation = \",svc.score(x_train,y_train.values.ravel()))\n",
        "print(\"Test accuracy before validation = \",svc.score(x_test,y_test.values.ravel()))"
      ],
      "execution_count": null,
      "outputs": [
        {
          "output_type": "stream",
          "text": [
            "Train Accuracy before validation =  0.9959844982957464\n",
            "Test accuracy before validation =  0.9910285165011214\n"
          ],
          "name": "stdout"
        }
      ]
    },
    {
      "cell_type": "code",
      "metadata": {
        "colab": {
          "base_uri": "https://localhost:8080/"
        },
        "id": "nrmf-guSt4Mw",
        "outputId": "419cd23a-1316-46a3-a85f-f05afab984c3"
      },
      "source": [
        "from sklearn.metrics import classification_report\n",
        "\n",
        "print(\"Classificaton report before Validation SVC\")\n",
        "predict = svc.predict(x_test)\n",
        "print(classification_report(y_test, predict))"
      ],
      "execution_count": null,
      "outputs": [
        {
          "output_type": "stream",
          "text": [
            "Classificaton report before Validation SVC\n",
            "              precision    recall  f1-score   support\n",
            "\n",
            "           0       1.00      0.99      1.00       621\n",
            "           1       0.99      0.99      0.99       715\n",
            "           2       0.98      0.99      0.98       572\n",
            "           3       1.00      0.98      0.99       643\n",
            "           4       0.99      1.00      0.99       570\n",
            "\n",
            "    accuracy                           0.99      3121\n",
            "   macro avg       0.99      0.99      0.99      3121\n",
            "weighted avg       0.99      0.99      0.99      3121\n",
            "\n"
          ],
          "name": "stdout"
        }
      ]
    },
    {
      "cell_type": "code",
      "metadata": {
        "id": "TeIvdzTqbAuo",
        "colab": {
          "base_uri": "https://localhost:8080/"
        },
        "outputId": "ea468195-35de-4cf6-9ffe-26f4a9409e87"
      },
      "source": [
        "grid_param= {'kernel': ('linear','rbf','poly'),'C': [0.001,0.1,10]} \n",
        "svc_grid = GridSearchCV(SVC(), grid_param, refit = True, verbose = 3,cv=5).fit(x_validation,y_validation.values.ravel())"
      ],
      "execution_count": null,
      "outputs": [
        {
          "output_type": "stream",
          "text": [
            "Fitting 5 folds for each of 9 candidates, totalling 45 fits\n",
            "[CV] C=0.001, kernel=linear ..........................................\n"
          ],
          "name": "stdout"
        },
        {
          "output_type": "stream",
          "text": [
            "[Parallel(n_jobs=1)]: Using backend SequentialBackend with 1 concurrent workers.\n"
          ],
          "name": "stderr"
        },
        {
          "output_type": "stream",
          "text": [
            "[CV] .............. C=0.001, kernel=linear, score=0.960, total=   4.1s\n",
            "[CV] C=0.001, kernel=linear ..........................................\n"
          ],
          "name": "stdout"
        },
        {
          "output_type": "stream",
          "text": [
            "[Parallel(n_jobs=1)]: Done   1 out of   1 | elapsed:    4.1s remaining:    0.0s\n"
          ],
          "name": "stderr"
        },
        {
          "output_type": "stream",
          "text": [
            "[CV] .............. C=0.001, kernel=linear, score=0.951, total=   4.2s\n",
            "[CV] C=0.001, kernel=linear ..........................................\n"
          ],
          "name": "stdout"
        },
        {
          "output_type": "stream",
          "text": [
            "[Parallel(n_jobs=1)]: Done   2 out of   2 | elapsed:    8.3s remaining:    0.0s\n"
          ],
          "name": "stderr"
        },
        {
          "output_type": "stream",
          "text": [
            "[CV] .............. C=0.001, kernel=linear, score=0.961, total=   4.2s\n",
            "[CV] C=0.001, kernel=linear ..........................................\n",
            "[CV] .............. C=0.001, kernel=linear, score=0.947, total=   4.1s\n",
            "[CV] C=0.001, kernel=linear ..........................................\n",
            "[CV] .............. C=0.001, kernel=linear, score=0.957, total=   4.3s\n",
            "[CV] C=0.001, kernel=rbf .............................................\n",
            "[CV] ................. C=0.001, kernel=rbf, score=0.221, total=  53.6s\n",
            "[CV] C=0.001, kernel=rbf .............................................\n",
            "[CV] ................. C=0.001, kernel=rbf, score=0.222, total=  53.6s\n",
            "[CV] C=0.001, kernel=rbf .............................................\n",
            "[CV] ................. C=0.001, kernel=rbf, score=0.221, total=  53.6s\n",
            "[CV] C=0.001, kernel=rbf .............................................\n",
            "[CV] ................. C=0.001, kernel=rbf, score=0.221, total=  53.6s\n",
            "[CV] C=0.001, kernel=rbf .............................................\n",
            "[CV] ................. C=0.001, kernel=rbf, score=0.221, total=  54.3s\n",
            "[CV] C=0.001, kernel=poly ............................................\n",
            "[CV] ................ C=0.001, kernel=poly, score=0.318, total=  51.3s\n",
            "[CV] C=0.001, kernel=poly ............................................\n",
            "[CV] ................ C=0.001, kernel=poly, score=0.304, total=  50.8s\n",
            "[CV] C=0.001, kernel=poly ............................................\n",
            "[CV] ................ C=0.001, kernel=poly, score=0.291, total=  51.5s\n",
            "[CV] C=0.001, kernel=poly ............................................\n",
            "[CV] ................ C=0.001, kernel=poly, score=0.310, total=  51.5s\n",
            "[CV] C=0.001, kernel=poly ............................................\n",
            "[CV] ................ C=0.001, kernel=poly, score=0.299, total=  50.4s\n",
            "[CV] C=0.1, kernel=linear ............................................\n",
            "[CV] ................ C=0.1, kernel=linear, score=0.960, total=   4.2s\n",
            "[CV] C=0.1, kernel=linear ............................................\n",
            "[CV] ................ C=0.1, kernel=linear, score=0.951, total=   4.2s\n",
            "[CV] C=0.1, kernel=linear ............................................\n",
            "[CV] ................ C=0.1, kernel=linear, score=0.961, total=   4.2s\n",
            "[CV] C=0.1, kernel=linear ............................................\n",
            "[CV] ................ C=0.1, kernel=linear, score=0.947, total=   4.1s\n",
            "[CV] C=0.1, kernel=linear ............................................\n",
            "[CV] ................ C=0.1, kernel=linear, score=0.957, total=   4.2s\n",
            "[CV] C=0.1, kernel=rbf ...............................................\n",
            "[CV] ................... C=0.1, kernel=rbf, score=0.969, total=  15.0s\n",
            "[CV] C=0.1, kernel=rbf ...............................................\n",
            "[CV] ................... C=0.1, kernel=rbf, score=0.972, total=  15.2s\n",
            "[CV] C=0.1, kernel=rbf ...............................................\n",
            "[CV] ................... C=0.1, kernel=rbf, score=0.975, total=  15.1s\n",
            "[CV] C=0.1, kernel=rbf ...............................................\n",
            "[CV] ................... C=0.1, kernel=rbf, score=0.961, total=  15.0s\n",
            "[CV] C=0.1, kernel=rbf ...............................................\n",
            "[CV] ................... C=0.1, kernel=rbf, score=0.972, total=  15.0s\n",
            "[CV] C=0.1, kernel=poly ..............................................\n",
            "[CV] .................. C=0.1, kernel=poly, score=0.946, total=  15.2s\n",
            "[CV] C=0.1, kernel=poly ..............................................\n",
            "[CV] .................. C=0.1, kernel=poly, score=0.946, total=  15.4s\n",
            "[CV] C=0.1, kernel=poly ..............................................\n",
            "[CV] .................. C=0.1, kernel=poly, score=0.944, total=  15.4s\n",
            "[CV] C=0.1, kernel=poly ..............................................\n",
            "[CV] .................. C=0.1, kernel=poly, score=0.933, total=  15.1s\n",
            "[CV] C=0.1, kernel=poly ..............................................\n",
            "[CV] .................. C=0.1, kernel=poly, score=0.937, total=  15.3s\n",
            "[CV] C=10, kernel=linear .............................................\n",
            "[CV] ................. C=10, kernel=linear, score=0.960, total=   4.2s\n",
            "[CV] C=10, kernel=linear .............................................\n",
            "[CV] ................. C=10, kernel=linear, score=0.951, total=   4.3s\n",
            "[CV] C=10, kernel=linear .............................................\n",
            "[CV] ................. C=10, kernel=linear, score=0.961, total=   4.2s\n",
            "[CV] C=10, kernel=linear .............................................\n",
            "[CV] ................. C=10, kernel=linear, score=0.947, total=   4.1s\n",
            "[CV] C=10, kernel=linear .............................................\n",
            "[CV] ................. C=10, kernel=linear, score=0.957, total=   4.2s\n",
            "[CV] C=10, kernel=rbf ................................................\n",
            "[CV] .................... C=10, kernel=rbf, score=0.985, total=   6.9s\n",
            "[CV] C=10, kernel=rbf ................................................\n",
            "[CV] .................... C=10, kernel=rbf, score=0.992, total=   7.1s\n",
            "[CV] C=10, kernel=rbf ................................................\n",
            "[CV] .................... C=10, kernel=rbf, score=0.988, total=   7.1s\n",
            "[CV] C=10, kernel=rbf ................................................\n",
            "[CV] .................... C=10, kernel=rbf, score=0.979, total=   6.8s\n",
            "[CV] C=10, kernel=rbf ................................................\n",
            "[CV] .................... C=10, kernel=rbf, score=0.988, total=   7.0s\n",
            "[CV] C=10, kernel=poly ...............................................\n",
            "[CV] ................... C=10, kernel=poly, score=0.977, total=   5.2s\n",
            "[CV] C=10, kernel=poly ...............................................\n",
            "[CV] ................... C=10, kernel=poly, score=0.983, total=   5.2s\n",
            "[CV] C=10, kernel=poly ...............................................\n",
            "[CV] ................... C=10, kernel=poly, score=0.979, total=   5.3s\n",
            "[CV] C=10, kernel=poly ...............................................\n",
            "[CV] ................... C=10, kernel=poly, score=0.973, total=   5.3s\n",
            "[CV] C=10, kernel=poly ...............................................\n",
            "[CV] ................... C=10, kernel=poly, score=0.982, total=   5.2s\n"
          ],
          "name": "stdout"
        },
        {
          "output_type": "stream",
          "text": [
            "[Parallel(n_jobs=1)]: Done  45 out of  45 | elapsed: 13.3min finished\n"
          ],
          "name": "stderr"
        }
      ]
    },
    {
      "cell_type": "code",
      "metadata": {
        "colab": {
          "base_uri": "https://localhost:8080/"
        },
        "id": "O-0WKgsYvIGK",
        "outputId": "0e3b2165-cabb-47a3-cfe9-33387a0e9f8b"
      },
      "source": [
        "print(svc_grid.best_params_)"
      ],
      "execution_count": null,
      "outputs": [
        {
          "output_type": "stream",
          "text": [
            "{'C': 10, 'kernel': 'rbf'}\n"
          ],
          "name": "stdout"
        }
      ]
    },
    {
      "cell_type": "code",
      "metadata": {
        "colab": {
          "base_uri": "https://localhost:8080/"
        },
        "id": "M1ioN1SdvQPS",
        "outputId": "b0a83484-03e0-4207-edff-1fe25ee51d59"
      },
      "source": [
        "print(svc_grid.best_estimator_)"
      ],
      "execution_count": null,
      "outputs": [
        {
          "output_type": "stream",
          "text": [
            "SVC(C=10, break_ties=False, cache_size=200, class_weight=None, coef0=0.0,\n",
            "    decision_function_shape='ovr', degree=3, gamma='scale', kernel='rbf',\n",
            "    max_iter=-1, probability=False, random_state=None, shrinking=True,\n",
            "    tol=0.001, verbose=False)\n"
          ],
          "name": "stdout"
        }
      ]
    },
    {
      "cell_type": "code",
      "metadata": {
        "id": "Dd0Qan3cbAr_",
        "colab": {
          "base_uri": "https://localhost:8080/"
        },
        "outputId": "ab3251ff-c614-483b-bfba-2b283137706a"
      },
      "source": [
        "fin_svc = svc_grid.best_estimator_\n",
        "fin_svc.fit(x_train,y_train.values.ravel())"
      ],
      "execution_count": null,
      "outputs": [
        {
          "output_type": "execute_result",
          "data": {
            "text/plain": [
              "SVC(C=10, break_ties=False, cache_size=200, class_weight=None, coef0=0.0,\n",
              "    decision_function_shape='ovr', degree=3, gamma='scale', kernel='rbf',\n",
              "    max_iter=-1, probability=False, random_state=None, shrinking=True,\n",
              "    tol=0.001, verbose=False)"
            ]
          },
          "metadata": {
            "tags": []
          },
          "execution_count": 45
        }
      ]
    },
    {
      "cell_type": "code",
      "metadata": {
        "colab": {
          "base_uri": "https://localhost:8080/"
        },
        "id": "ZdjmxCw-vmFd",
        "outputId": "4fd41b67-09cc-4fa9-e253-ca948504d27e"
      },
      "source": [
        "print(\"Train Accuracy after validation = \",fin_svc.score(x_train,y_train.values.ravel()))\n",
        "print(\"Test accuracy after validation = \",fin_svc.score(x_test,y_test.values.ravel()))"
      ],
      "execution_count": null,
      "outputs": [
        {
          "output_type": "stream",
          "text": [
            "Train Accuracy after validation =  0.9999533081197179\n",
            "Test accuracy after validation =  0.9948734380006409\n"
          ],
          "name": "stdout"
        }
      ]
    },
    {
      "cell_type": "code",
      "metadata": {
        "colab": {
          "base_uri": "https://localhost:8080/"
        },
        "id": "7Wx2I85wvrlt",
        "outputId": "5142db81-3f0d-49f4-c66d-3b4f8a39ef38"
      },
      "source": [
        "print(\"Classificaton report after Validation SVC\")\n",
        "predict_fin = fin_svc.predict(x_test)\n",
        "print(classification_report(y_test, predict_fin))"
      ],
      "execution_count": null,
      "outputs": [
        {
          "output_type": "stream",
          "text": [
            "Classificaton report after Validation SVC\n",
            "              precision    recall  f1-score   support\n",
            "\n",
            "           0       1.00      1.00      1.00       621\n",
            "           1       1.00      1.00      1.00       715\n",
            "           2       0.99      0.99      0.99       572\n",
            "           3       1.00      0.99      0.99       643\n",
            "           4       0.99      1.00      0.99       570\n",
            "\n",
            "    accuracy                           0.99      3121\n",
            "   macro avg       0.99      0.99      0.99      3121\n",
            "weighted avg       0.99      0.99      0.99      3121\n",
            "\n"
          ],
          "name": "stdout"
        }
      ]
    },
    {
      "cell_type": "markdown",
      "metadata": {
        "id": "4bNaVtS0wSUj"
      },
      "source": [
        "##KNN"
      ]
    },
    {
      "cell_type": "code",
      "metadata": {
        "id": "O7b5EX2JbApJ",
        "colab": {
          "base_uri": "https://localhost:8080/"
        },
        "outputId": "d138020f-7d80-4c9b-b43f-8bc2af8a5ddf"
      },
      "source": [
        "knn = KNeighborsClassifier()\n",
        "knn_param = {'n_neighbors':[5,10,100]}\n",
        "knn_grid = GridSearchCV(knn, knn_param, refit = True, verbose = 3).fit(x_validation,y_validation.values.ravel())\n",
        "print(knn_grid.best_params_)\n",
        "knn_fin = knn_grid.best_estimator_"
      ],
      "execution_count": null,
      "outputs": [
        {
          "output_type": "stream",
          "text": [
            "Fitting 5 folds for each of 3 candidates, totalling 15 fits\n",
            "[CV] n_neighbors=5 ...................................................\n"
          ],
          "name": "stdout"
        },
        {
          "output_type": "stream",
          "text": [
            "[Parallel(n_jobs=1)]: Using backend SequentialBackend with 1 concurrent workers.\n"
          ],
          "name": "stderr"
        },
        {
          "output_type": "stream",
          "text": [
            "[CV] ....................... n_neighbors=5, score=0.974, total=  10.4s\n",
            "[CV] n_neighbors=5 ...................................................\n"
          ],
          "name": "stdout"
        },
        {
          "output_type": "stream",
          "text": [
            "[Parallel(n_jobs=1)]: Done   1 out of   1 | elapsed:   10.5s remaining:    0.0s\n"
          ],
          "name": "stderr"
        },
        {
          "output_type": "stream",
          "text": [
            "[CV] ....................... n_neighbors=5, score=0.979, total=  10.4s\n",
            "[CV] n_neighbors=5 ...................................................\n"
          ],
          "name": "stdout"
        },
        {
          "output_type": "stream",
          "text": [
            "[Parallel(n_jobs=1)]: Done   2 out of   2 | elapsed:   20.9s remaining:    0.0s\n"
          ],
          "name": "stderr"
        },
        {
          "output_type": "stream",
          "text": [
            "[CV] ....................... n_neighbors=5, score=0.977, total=  10.4s\n",
            "[CV] n_neighbors=5 ...................................................\n",
            "[CV] ....................... n_neighbors=5, score=0.980, total=  10.4s\n",
            "[CV] n_neighbors=5 ...................................................\n",
            "[CV] ....................... n_neighbors=5, score=0.986, total=  10.4s\n",
            "[CV] n_neighbors=10 ..................................................\n",
            "[CV] ...................... n_neighbors=10, score=0.969, total=  10.4s\n",
            "[CV] n_neighbors=10 ..................................................\n",
            "[CV] ...................... n_neighbors=10, score=0.975, total=  10.4s\n",
            "[CV] n_neighbors=10 ..................................................\n",
            "[CV] ...................... n_neighbors=10, score=0.968, total=  10.4s\n",
            "[CV] n_neighbors=10 ..................................................\n",
            "[CV] ...................... n_neighbors=10, score=0.971, total=  10.4s\n",
            "[CV] n_neighbors=10 ..................................................\n",
            "[CV] ...................... n_neighbors=10, score=0.982, total=  10.4s\n",
            "[CV] n_neighbors=100 .................................................\n",
            "[CV] ..................... n_neighbors=100, score=0.932, total=  10.6s\n",
            "[CV] n_neighbors=100 .................................................\n",
            "[CV] ..................... n_neighbors=100, score=0.919, total=  10.5s\n",
            "[CV] n_neighbors=100 .................................................\n",
            "[CV] ..................... n_neighbors=100, score=0.923, total=  10.4s\n",
            "[CV] n_neighbors=100 .................................................\n",
            "[CV] ..................... n_neighbors=100, score=0.926, total=  10.4s\n",
            "[CV] n_neighbors=100 .................................................\n",
            "[CV] ..................... n_neighbors=100, score=0.925, total=  10.5s\n"
          ],
          "name": "stdout"
        },
        {
          "output_type": "stream",
          "text": [
            "[Parallel(n_jobs=1)]: Done  15 out of  15 | elapsed:  2.6min finished\n"
          ],
          "name": "stderr"
        },
        {
          "output_type": "stream",
          "text": [
            "{'n_neighbors': 5}\n"
          ],
          "name": "stdout"
        }
      ]
    },
    {
      "cell_type": "code",
      "metadata": {
        "colab": {
          "base_uri": "https://localhost:8080/"
        },
        "id": "Z0DnP47wxIy3",
        "outputId": "fcfd1021-a28d-492f-afe4-8e2ba54c59e8"
      },
      "source": [
        "knn_fin.fit(x_train, y_train.values.ravel())"
      ],
      "execution_count": null,
      "outputs": [
        {
          "output_type": "execute_result",
          "data": {
            "text/plain": [
              "KNeighborsClassifier(algorithm='auto', leaf_size=30, metric='minkowski',\n",
              "                     metric_params=None, n_jobs=None, n_neighbors=5, p=2,\n",
              "                     weights='uniform')"
            ]
          },
          "metadata": {
            "tags": []
          },
          "execution_count": 50
        }
      ]
    },
    {
      "cell_type": "code",
      "metadata": {
        "id": "UI8dbGoibAmy",
        "colab": {
          "base_uri": "https://localhost:8080/"
        },
        "outputId": "da86c0ff-9838-4c04-ce0c-b1c261530c00"
      },
      "source": [
        "print(\"KNN score = \",knn_fin.score(x_test,y_test))"
      ],
      "execution_count": null,
      "outputs": [
        {
          "output_type": "stream",
          "text": [
            "KNN score =  0.9903876962512015\n"
          ],
          "name": "stdout"
        }
      ]
    },
    {
      "cell_type": "code",
      "metadata": {
        "colab": {
          "base_uri": "https://localhost:8080/"
        },
        "id": "hh9R7GlQxOoz",
        "outputId": "23c0fd14-4591-4a27-fbcc-cc71ff1893c4"
      },
      "source": [
        "print(\"Classificaton report after Validation for  KNN\")\n",
        "print()\n",
        "knn_predict = knn_fin.predict(x_test)\n",
        "print(classification_report(y_test, knn_predict))"
      ],
      "execution_count": null,
      "outputs": [
        {
          "output_type": "stream",
          "text": [
            "Classificaton report after Validation for  KNN\n",
            "\n",
            "              precision    recall  f1-score   support\n",
            "\n",
            "           0       1.00      1.00      1.00       621\n",
            "           1       0.98      1.00      0.99       715\n",
            "           2       0.99      0.98      0.99       572\n",
            "           3       1.00      0.98      0.99       643\n",
            "           4       0.99      0.99      0.99       570\n",
            "\n",
            "    accuracy                           0.99      3121\n",
            "   macro avg       0.99      0.99      0.99      3121\n",
            "weighted avg       0.99      0.99      0.99      3121\n",
            "\n"
          ],
          "name": "stdout"
        }
      ]
    },
    {
      "cell_type": "markdown",
      "metadata": {
        "id": "31MoD0ToxkfN"
      },
      "source": [
        "##Perceptron"
      ]
    },
    {
      "cell_type": "code",
      "metadata": {
        "id": "0TPyHu6QbAj3",
        "colab": {
          "base_uri": "https://localhost:8080/"
        },
        "outputId": "858c9123-6489-4a61-86c3-f393361f641e"
      },
      "source": [
        "param_per = {'alpha' :[0.0001, 0.001,0.01], 'max_iter':[10,20,30,40], 'eta0': [1, 0.5]}\n",
        "\n",
        "per_grid = GridSearchCV(Perceptron(), param_per, n_jobs=-1, refit = True, verbose = 3).fit(x_validation, y_validation.values.ravel())\n",
        "print(per_grid.best_params_)\n",
        "per_fin = per_grid.best_estimator_"
      ],
      "execution_count": null,
      "outputs": [
        {
          "output_type": "stream",
          "text": [
            "Fitting 5 folds for each of 24 candidates, totalling 120 fits\n"
          ],
          "name": "stdout"
        },
        {
          "output_type": "stream",
          "text": [
            "[Parallel(n_jobs=-1)]: Using backend LokyBackend with 2 concurrent workers.\n",
            "[Parallel(n_jobs=-1)]: Done  28 tasks      | elapsed:   12.9s\n",
            "[Parallel(n_jobs=-1)]: Done 120 out of 120 | elapsed:   53.5s finished\n"
          ],
          "name": "stderr"
        },
        {
          "output_type": "stream",
          "text": [
            "{'alpha': 0.0001, 'eta0': 1, 'max_iter': 10}\n"
          ],
          "name": "stdout"
        },
        {
          "output_type": "stream",
          "text": [
            "/usr/local/lib/python3.7/dist-packages/sklearn/linear_model/_stochastic_gradient.py:557: ConvergenceWarning: Maximum number of iteration reached before convergence. Consider increasing max_iter to improve the fit.\n",
            "  ConvergenceWarning)\n"
          ],
          "name": "stderr"
        }
      ]
    },
    {
      "cell_type": "code",
      "metadata": {
        "colab": {
          "base_uri": "https://localhost:8080/"
        },
        "id": "ViDP1m4p0I5o",
        "outputId": "3c15406c-1438-4044-cb64-b010bdee2f06"
      },
      "source": [
        "per_fin.fit(x_train,y_train.values.ravel())"
      ],
      "execution_count": null,
      "outputs": [
        {
          "output_type": "stream",
          "text": [
            "/usr/local/lib/python3.7/dist-packages/sklearn/linear_model/_stochastic_gradient.py:557: ConvergenceWarning: Maximum number of iteration reached before convergence. Consider increasing max_iter to improve the fit.\n",
            "  ConvergenceWarning)\n"
          ],
          "name": "stderr"
        },
        {
          "output_type": "execute_result",
          "data": {
            "text/plain": [
              "Perceptron(alpha=0.0001, class_weight=None, early_stopping=False, eta0=1,\n",
              "           fit_intercept=True, max_iter=10, n_iter_no_change=5, n_jobs=None,\n",
              "           penalty=None, random_state=0, shuffle=True, tol=0.001,\n",
              "           validation_fraction=0.1, verbose=0, warm_start=False)"
            ]
          },
          "metadata": {
            "tags": []
          },
          "execution_count": 54
        }
      ]
    },
    {
      "cell_type": "code",
      "metadata": {
        "colab": {
          "base_uri": "https://localhost:8080/"
        },
        "id": "jsh-eU630VVv",
        "outputId": "046afbc4-95e1-4509-c559-2e5edfdeb836"
      },
      "source": [
        "print(\"Perceptron score = \",per_fin.score(x_test,y_test))"
      ],
      "execution_count": null,
      "outputs": [
        {
          "output_type": "stream",
          "text": [
            "Perceptron score =  0.9589875040051266\n"
          ],
          "name": "stdout"
        }
      ]
    },
    {
      "cell_type": "code",
      "metadata": {
        "colab": {
          "base_uri": "https://localhost:8080/"
        },
        "id": "pHf-EUf70L4P",
        "outputId": "06781561-1cb3-4856-a8a8-d452e082d9fb"
      },
      "source": [
        "print(\"Classificaton report after Validation for  Perceptron\")\n",
        "print()\n",
        "predict_per = per_fin.predict(x_test)\n",
        "print(classification_report(y_test, predict_per))"
      ],
      "execution_count": null,
      "outputs": [
        {
          "output_type": "stream",
          "text": [
            "Classificaton report after Validation for  Perceptron\n",
            "\n",
            "              precision    recall  f1-score   support\n",
            "\n",
            "           0       0.99      0.96      0.97       621\n",
            "           1       0.99      0.97      0.98       715\n",
            "           2       0.89      0.96      0.93       572\n",
            "           3       0.96      0.94      0.95       643\n",
            "           4       0.96      0.97      0.97       570\n",
            "\n",
            "    accuracy                           0.96      3121\n",
            "   macro avg       0.96      0.96      0.96      3121\n",
            "weighted avg       0.96      0.96      0.96      3121\n",
            "\n"
          ],
          "name": "stdout"
        }
      ]
    },
    {
      "cell_type": "markdown",
      "metadata": {
        "id": "2OwDQzR-1Swh"
      },
      "source": [
        "Comparison before Standardization"
      ]
    },
    {
      "cell_type": "code",
      "metadata": {
        "colab": {
          "base_uri": "https://localhost:8080/",
          "height": 516
        },
        "id": "MhA4H2EW1lKe",
        "outputId": "c94d139d-a5cf-43e1-d91d-69adbdb6339c"
      },
      "source": [
        "models = ['SVC','Best SVC ', 'KNN', 'Perceptron']\n",
        "acc = [ 0.9910285165011214, 0.9948734380006409 , 0.9903876962512015, 0.9589875040051266 ]\n",
        "plt.figure(figsize=(8,8))\n",
        "plt.title('Accuracy')\n",
        "sns.set_style('whitegrid')\n",
        "sns.lineplot(x=models, y=acc)"
      ],
      "execution_count": null,
      "outputs": [
        {
          "output_type": "execute_result",
          "data": {
            "text/plain": [
              "<matplotlib.axes._subplots.AxesSubplot at 0x7f85f9ef0290>"
            ]
          },
          "metadata": {
            "tags": []
          },
          "execution_count": 61
        },
        {
          "output_type": "display_data",
          "data": {
            "image/png": "[encoded data removed]",
            "text/plain": [
              "<Figure size 576x576 with 1 Axes>"
            ]
          },
          "metadata": {
            "tags": [],
            "needs_background": "light"
          }
        }
      ]
    },
    {
      "cell_type": "markdown",
      "metadata": {
        "id": "ISFUjY04gN5i"
      },
      "source": [
        "Standardization of Data\n"
      ]
    },
    {
      "cell_type": "code",
      "metadata": {
        "id": "JL4-elIPbAev"
      },
      "source": [
        "scaler = StandardScaler()\n",
        "scaler.fit(x)\n",
        "x = scaler.transform(x)"
      ],
      "execution_count": null,
      "outputs": []
    },
    {
      "cell_type": "code",
      "metadata": {
        "id": "RP-jT4V6bAb7"
      },
      "source": [
        "x_train, x_test, y_train, y_test = train_test_split(x, y, test_size=0.3)\n",
        "x_validation, x_test, y_validation, y_test = train_test_split(x_test, y_test, test_size=0.34) "
      ],
      "execution_count": null,
      "outputs": []
    },
    {
      "cell_type": "code",
      "metadata": {
        "id": "RKUkiAx5bAY4",
        "colab": {
          "base_uri": "https://localhost:8080/"
        },
        "outputId": "dd251da5-8647-45b4-f561-a175087c7577"
      },
      "source": [
        "grid= {'kernel': ('linear','rbf','poly'),'C': [0.001,0.1,10]}\n",
        "sv=SVC()\n",
        "svm1= GridSearchCV(sv,grid,cv=5,refit = True, verbose = 3).fit(x_validation,y_validation.values.ravel())"
      ],
      "execution_count": null,
      "outputs": [
        {
          "output_type": "stream",
          "text": [
            "Fitting 5 folds for each of 9 candidates, totalling 45 fits\n",
            "[CV] C=0.001, kernel=linear ..........................................\n"
          ],
          "name": "stdout"
        },
        {
          "output_type": "stream",
          "text": [
            "[Parallel(n_jobs=1)]: Using backend SequentialBackend with 1 concurrent workers.\n"
          ],
          "name": "stderr"
        },
        {
          "output_type": "stream",
          "text": [
            "[CV] .............. C=0.001, kernel=linear, score=0.974, total=   6.9s\n",
            "[CV] C=0.001, kernel=linear ..........................................\n"
          ],
          "name": "stdout"
        },
        {
          "output_type": "stream",
          "text": [
            "[Parallel(n_jobs=1)]: Done   1 out of   1 | elapsed:    6.9s remaining:    0.0s\n"
          ],
          "name": "stderr"
        },
        {
          "output_type": "stream",
          "text": [
            "[CV] .............. C=0.001, kernel=linear, score=0.973, total=   6.8s\n",
            "[CV] C=0.001, kernel=linear ..........................................\n"
          ],
          "name": "stdout"
        },
        {
          "output_type": "stream",
          "text": [
            "[Parallel(n_jobs=1)]: Done   2 out of   2 | elapsed:   13.8s remaining:    0.0s\n"
          ],
          "name": "stderr"
        },
        {
          "output_type": "stream",
          "text": [
            "[CV] .............. C=0.001, kernel=linear, score=0.966, total=   6.7s\n",
            "[CV] C=0.001, kernel=linear ..........................................\n",
            "[CV] .............. C=0.001, kernel=linear, score=0.964, total=   6.6s\n",
            "[CV] C=0.001, kernel=linear ..........................................\n",
            "[CV] .............. C=0.001, kernel=linear, score=0.961, total=   6.7s\n",
            "[CV] C=0.001, kernel=rbf .............................................\n",
            "[CV] ................. C=0.001, kernel=rbf, score=0.216, total=  53.6s\n",
            "[CV] C=0.001, kernel=rbf .............................................\n",
            "[CV] ................. C=0.001, kernel=rbf, score=0.217, total=  53.4s\n",
            "[CV] C=0.001, kernel=rbf .............................................\n",
            "[CV] ................. C=0.001, kernel=rbf, score=0.216, total=  53.8s\n",
            "[CV] C=0.001, kernel=rbf .............................................\n",
            "[CV] ................. C=0.001, kernel=rbf, score=0.216, total=  53.1s\n",
            "[CV] C=0.001, kernel=rbf .............................................\n",
            "[CV] ................. C=0.001, kernel=rbf, score=0.216, total=  52.6s\n",
            "[CV] C=0.001, kernel=poly ............................................\n",
            "[CV] ................ C=0.001, kernel=poly, score=0.217, total=  50.7s\n",
            "[CV] C=0.001, kernel=poly ............................................\n",
            "[CV] ................ C=0.001, kernel=poly, score=0.217, total=  51.6s\n",
            "[CV] C=0.001, kernel=poly ............................................\n",
            "[CV] ................ C=0.001, kernel=poly, score=0.215, total=  50.9s\n",
            "[CV] C=0.001, kernel=poly ............................................\n",
            "[CV] ................ C=0.001, kernel=poly, score=0.218, total=  51.2s\n",
            "[CV] C=0.001, kernel=poly ............................................\n",
            "[CV] ................ C=0.001, kernel=poly, score=0.218, total=  50.8s\n",
            "[CV] C=0.1, kernel=linear ............................................\n",
            "[CV] ................ C=0.1, kernel=linear, score=0.966, total=   4.3s\n",
            "[CV] C=0.1, kernel=linear ............................................\n",
            "[CV] ................ C=0.1, kernel=linear, score=0.963, total=   4.2s\n",
            "[CV] C=0.1, kernel=linear ............................................\n",
            "[CV] ................ C=0.1, kernel=linear, score=0.961, total=   4.2s\n",
            "[CV] C=0.1, kernel=linear ............................................\n",
            "[CV] ................ C=0.1, kernel=linear, score=0.960, total=   4.2s\n",
            "[CV] C=0.1, kernel=linear ............................................\n",
            "[CV] ................ C=0.1, kernel=linear, score=0.954, total=   4.2s\n",
            "[CV] C=0.1, kernel=rbf ...............................................\n",
            "[CV] ................... C=0.1, kernel=rbf, score=0.950, total=  18.4s\n",
            "[CV] C=0.1, kernel=rbf ...............................................\n",
            "[CV] ................... C=0.1, kernel=rbf, score=0.933, total=  18.4s\n",
            "[CV] C=0.1, kernel=rbf ...............................................\n",
            "[CV] ................... C=0.1, kernel=rbf, score=0.936, total=  18.5s\n",
            "[CV] C=0.1, kernel=rbf ...............................................\n",
            "[CV] ................... C=0.1, kernel=rbf, score=0.936, total=  18.3s\n",
            "[CV] C=0.1, kernel=rbf ...............................................\n",
            "[CV] ................... C=0.1, kernel=rbf, score=0.927, total=  18.4s\n",
            "[CV] C=0.1, kernel=poly ..............................................\n",
            "[CV] .................. C=0.1, kernel=poly, score=0.614, total=  43.0s\n",
            "[CV] C=0.1, kernel=poly ..............................................\n",
            "[CV] .................. C=0.1, kernel=poly, score=0.620, total=  42.7s\n",
            "[CV] C=0.1, kernel=poly ..............................................\n",
            "[CV] .................. C=0.1, kernel=poly, score=0.615, total=  42.7s\n",
            "[CV] C=0.1, kernel=poly ..............................................\n",
            "[CV] .................. C=0.1, kernel=poly, score=0.600, total=  42.4s\n",
            "[CV] C=0.1, kernel=poly ..............................................\n",
            "[CV] .................. C=0.1, kernel=poly, score=0.609, total=  42.7s\n",
            "[CV] C=10, kernel=linear .............................................\n",
            "[CV] ................. C=10, kernel=linear, score=0.965, total=   4.3s\n",
            "[CV] C=10, kernel=linear .............................................\n",
            "[CV] ................. C=10, kernel=linear, score=0.961, total=   4.2s\n",
            "[CV] C=10, kernel=linear .............................................\n",
            "[CV] ................. C=10, kernel=linear, score=0.960, total=   4.1s\n",
            "[CV] C=10, kernel=linear .............................................\n",
            "[CV] ................. C=10, kernel=linear, score=0.959, total=   4.2s\n",
            "[CV] C=10, kernel=linear .............................................\n",
            "[CV] ................. C=10, kernel=linear, score=0.951, total=   4.1s\n",
            "[CV] C=10, kernel=rbf ................................................\n",
            "[CV] .................... C=10, kernel=rbf, score=0.972, total=   9.8s\n",
            "[CV] C=10, kernel=rbf ................................................\n",
            "[CV] .................... C=10, kernel=rbf, score=0.969, total=   9.6s\n",
            "[CV] C=10, kernel=rbf ................................................\n",
            "[CV] .................... C=10, kernel=rbf, score=0.974, total=   9.6s\n",
            "[CV] C=10, kernel=rbf ................................................\n",
            "[CV] .................... C=10, kernel=rbf, score=0.965, total=   9.7s\n",
            "[CV] C=10, kernel=rbf ................................................\n",
            "[CV] .................... C=10, kernel=rbf, score=0.962, total=   9.5s\n",
            "[CV] C=10, kernel=poly ...............................................\n",
            "[CV] ................... C=10, kernel=poly, score=0.983, total=  14.8s\n",
            "[CV] C=10, kernel=poly ...............................................\n",
            "[CV] ................... C=10, kernel=poly, score=0.978, total=  15.3s\n",
            "[CV] C=10, kernel=poly ...............................................\n",
            "[CV] ................... C=10, kernel=poly, score=0.981, total=  15.5s\n",
            "[CV] C=10, kernel=poly ...............................................\n",
            "[CV] ................... C=10, kernel=poly, score=0.979, total=  15.1s\n",
            "[CV] C=10, kernel=poly ...............................................\n",
            "[CV] ................... C=10, kernel=poly, score=0.979, total=  15.1s\n"
          ],
          "name": "stdout"
        },
        {
          "output_type": "stream",
          "text": [
            "[Parallel(n_jobs=1)]: Done  45 out of  45 | elapsed: 17.1min finished\n"
          ],
          "name": "stderr"
        }
      ]
    },
    {
      "cell_type": "code",
      "metadata": {
        "id": "z1zyucmIhH-J",
        "colab": {
          "base_uri": "https://localhost:8080/"
        },
        "outputId": "f5399fc1-3752-43b1-97ea-447fb6865611"
      },
      "source": [
        "svm1=svm1.best_estimator_\n",
        "svm1.fit(x_train,y_train.values.ravel())\n",
        "print(\"SVC score: \", svm1.score(x_test,y_test))"
      ],
      "execution_count": null,
      "outputs": [
        {
          "output_type": "stream",
          "text": [
            "SVC score:  0.9919897468760013\n"
          ],
          "name": "stdout"
        }
      ]
    },
    {
      "cell_type": "code",
      "metadata": {
        "colab": {
          "base_uri": "https://localhost:8080/"
        },
        "id": "KevXlG563Kkx",
        "outputId": "bd35b341-d171-44d2-e21e-0c335e5bcf2e"
      },
      "source": [
        "print(\"Classificaton report after Standardization SVC\")\n",
        "predict_svcd = svm1.predict(x_test)\n",
        "print(classification_report(y_test, predict_svcd))"
      ],
      "execution_count": null,
      "outputs": [
        {
          "output_type": "stream",
          "text": [
            "Classificaton report after Standardization SVC\n",
            "              precision    recall  f1-score   support\n",
            "\n",
            "           0       1.00      1.00      1.00       599\n",
            "           1       1.00      0.99      1.00       707\n",
            "           2       0.98      0.98      0.98       612\n",
            "           3       0.99      0.99      0.99       611\n",
            "           4       0.99      1.00      0.99       592\n",
            "\n",
            "    accuracy                           0.99      3121\n",
            "   macro avg       0.99      0.99      0.99      3121\n",
            "weighted avg       0.99      0.99      0.99      3121\n",
            "\n"
          ],
          "name": "stdout"
        }
      ]
    },
    {
      "cell_type": "code",
      "metadata": {
        "id": "BTt4k6qdhH7x",
        "colab": {
          "base_uri": "https://localhost:8080/"
        },
        "outputId": "a52953ab-dd35-4385-f538-ba608bd3cf39"
      },
      "source": [
        "grid= {'n_neighbors':[5,10,100]}\n",
        "kn= KNeighborsClassifier(n_neighbors=6)\n",
        "knn1 = GridSearchCV(kn,grid, refit = True, verbose = 3).fit(x_validation, y_validation.values.ravel())\n",
        "knn1=knn1.best_estimator_"
      ],
      "execution_count": null,
      "outputs": [
        {
          "output_type": "stream",
          "text": [
            "Fitting 5 folds for each of 3 candidates, totalling 15 fits\n",
            "[CV] n_neighbors=5 ...................................................\n"
          ],
          "name": "stdout"
        },
        {
          "output_type": "stream",
          "text": [
            "[Parallel(n_jobs=1)]: Using backend SequentialBackend with 1 concurrent workers.\n"
          ],
          "name": "stderr"
        },
        {
          "output_type": "stream",
          "text": [
            "[CV] ....................... n_neighbors=5, score=0.970, total=  10.2s\n",
            "[CV] n_neighbors=5 ...................................................\n"
          ],
          "name": "stdout"
        },
        {
          "output_type": "stream",
          "text": [
            "[Parallel(n_jobs=1)]: Done   1 out of   1 | elapsed:   10.2s remaining:    0.0s\n"
          ],
          "name": "stderr"
        },
        {
          "output_type": "stream",
          "text": [
            "[CV] ....................... n_neighbors=5, score=0.960, total=  10.2s\n",
            "[CV] n_neighbors=5 ...................................................\n"
          ],
          "name": "stdout"
        },
        {
          "output_type": "stream",
          "text": [
            "[Parallel(n_jobs=1)]: Done   2 out of   2 | elapsed:   20.4s remaining:    0.0s\n"
          ],
          "name": "stderr"
        },
        {
          "output_type": "stream",
          "text": [
            "[CV] ....................... n_neighbors=5, score=0.960, total=  10.2s\n",
            "[CV] n_neighbors=5 ...................................................\n",
            "[CV] ....................... n_neighbors=5, score=0.965, total=  10.2s\n",
            "[CV] n_neighbors=5 ...................................................\n",
            "[CV] ....................... n_neighbors=5, score=0.953, total=  10.2s\n",
            "[CV] n_neighbors=10 ..................................................\n",
            "[CV] ...................... n_neighbors=10, score=0.969, total=  10.3s\n",
            "[CV] n_neighbors=10 ..................................................\n",
            "[CV] ...................... n_neighbors=10, score=0.962, total=  10.3s\n",
            "[CV] n_neighbors=10 ..................................................\n",
            "[CV] ...................... n_neighbors=10, score=0.960, total=  10.3s\n",
            "[CV] n_neighbors=10 ..................................................\n",
            "[CV] ...................... n_neighbors=10, score=0.962, total=  10.3s\n",
            "[CV] n_neighbors=10 ..................................................\n",
            "[CV] ...................... n_neighbors=10, score=0.950, total=  10.3s\n",
            "[CV] n_neighbors=100 .................................................\n",
            "[CV] ..................... n_neighbors=100, score=0.899, total=  10.3s\n",
            "[CV] n_neighbors=100 .................................................\n",
            "[CV] ..................... n_neighbors=100, score=0.910, total=  10.3s\n",
            "[CV] n_neighbors=100 .................................................\n",
            "[CV] ..................... n_neighbors=100, score=0.903, total=  10.4s\n",
            "[CV] n_neighbors=100 .................................................\n",
            "[CV] ..................... n_neighbors=100, score=0.894, total=  10.4s\n",
            "[CV] n_neighbors=100 .................................................\n",
            "[CV] ..................... n_neighbors=100, score=0.888, total=  10.4s\n"
          ],
          "name": "stdout"
        },
        {
          "output_type": "stream",
          "text": [
            "[Parallel(n_jobs=1)]: Done  15 out of  15 | elapsed:  2.6min finished\n"
          ],
          "name": "stderr"
        }
      ]
    },
    {
      "cell_type": "code",
      "metadata": {
        "id": "BVb6iFRthH5L",
        "colab": {
          "base_uri": "https://localhost:8080/"
        },
        "outputId": "3d893e80-a451-4773-e8a3-64a03306280f"
      },
      "source": [
        "knn1.fit(x_train,y_train.values.ravel())\n",
        "print(\"KNN score: \", knn1.score(x_test,y_test))"
      ],
      "execution_count": null,
      "outputs": [
        {
          "output_type": "stream",
          "text": [
            "KNN score:  0.9727651393784044\n"
          ],
          "name": "stdout"
        }
      ]
    },
    {
      "cell_type": "code",
      "metadata": {
        "colab": {
          "base_uri": "https://localhost:8080/"
        },
        "id": "-Ul3LZhP3cFk",
        "outputId": "45958ce4-7205-4cf3-c28a-2ed3a6799dfe"
      },
      "source": [
        "print(\"Classificaton report after Standardization KNN\")\n",
        "predict_knnd = knn1.predict(x_test)\n",
        "print(classification_report(y_test, predict_knnd))"
      ],
      "execution_count": null,
      "outputs": [
        {
          "output_type": "stream",
          "text": [
            "Classificaton report after Standardization KNN\n",
            "              precision    recall  f1-score   support\n",
            "\n",
            "           0       0.97      0.98      0.98       599\n",
            "           1       0.97      0.99      0.98       707\n",
            "           2       0.97      0.93      0.95       612\n",
            "           3       0.98      0.97      0.97       611\n",
            "           4       0.96      0.99      0.97       592\n",
            "\n",
            "    accuracy                           0.97      3121\n",
            "   macro avg       0.97      0.97      0.97      3121\n",
            "weighted avg       0.97      0.97      0.97      3121\n",
            "\n"
          ],
          "name": "stdout"
        }
      ]
    },
    {
      "cell_type": "code",
      "metadata": {
        "id": "Tb94poEhhH0b",
        "colab": {
          "base_uri": "https://localhost:8080/"
        },
        "outputId": "5a6c9932-ae90-41e2-b924-ca9c145493a0"
      },
      "source": [
        "grid={'alpha' :[0.0001, 0.001,0.01], 'max_iter':[10,20,30,40], 'eta0': [1, 0.5]}\n",
        "pr= Perceptron()\n",
        "perc1 = GridSearchCV(pr, grid, n_jobs=-1, refit = True, verbose = 3).fit(x_validation, y_validation.values.ravel())"
      ],
      "execution_count": null,
      "outputs": [
        {
          "output_type": "stream",
          "text": [
            "Fitting 5 folds for each of 24 candidates, totalling 120 fits\n"
          ],
          "name": "stdout"
        },
        {
          "output_type": "stream",
          "text": [
            "[Parallel(n_jobs=-1)]: Using backend LokyBackend with 2 concurrent workers.\n",
            "[Parallel(n_jobs=-1)]: Done  28 tasks      | elapsed:   11.8s\n",
            "[Parallel(n_jobs=-1)]: Done 120 out of 120 | elapsed:   50.8s finished\n",
            "/usr/local/lib/python3.7/dist-packages/sklearn/linear_model/_stochastic_gradient.py:557: ConvergenceWarning: Maximum number of iteration reached before convergence. Consider increasing max_iter to improve the fit.\n",
            "  ConvergenceWarning)\n"
          ],
          "name": "stderr"
        }
      ]
    },
    {
      "cell_type": "code",
      "metadata": {
        "id": "jALvSL6chHvQ",
        "colab": {
          "base_uri": "https://localhost:8080/"
        },
        "outputId": "f289f6aa-02e5-4afa-e5ec-2b9fa5054e06"
      },
      "source": [
        "perc1=perc1.best_estimator_\n",
        "perc1.fit(x_train,y_train.values.ravel())\n",
        "print(\"Perceptron score: \", perc1.score(x_test,y_test))"
      ],
      "execution_count": null,
      "outputs": [
        {
          "output_type": "stream",
          "text": [
            "Perceptron score:  0.9532201217558475\n"
          ],
          "name": "stdout"
        },
        {
          "output_type": "stream",
          "text": [
            "/usr/local/lib/python3.7/dist-packages/sklearn/linear_model/_stochastic_gradient.py:557: ConvergenceWarning: Maximum number of iteration reached before convergence. Consider increasing max_iter to improve the fit.\n",
            "  ConvergenceWarning)\n"
          ],
          "name": "stderr"
        }
      ]
    },
    {
      "cell_type": "code",
      "metadata": {
        "colab": {
          "base_uri": "https://localhost:8080/"
        },
        "id": "HDlWHN8a3ilE",
        "outputId": "a198e899-99c4-430d-c35a-3b16babdf8f4"
      },
      "source": [
        "print(\"Classificaton report after Standardization Perceptron\")\n",
        "predict_perd = perc1.predict(x_test)\n",
        "print(classification_report(y_test, predict_perd))"
      ],
      "execution_count": null,
      "outputs": [
        {
          "output_type": "stream",
          "text": [
            "Classificaton report after Standardization Perceptron\n",
            "              precision    recall  f1-score   support\n",
            "\n",
            "           0       0.98      0.96      0.97       599\n",
            "           1       0.97      0.98      0.97       707\n",
            "           2       0.94      0.89      0.91       612\n",
            "           3       0.94      0.95      0.95       611\n",
            "           4       0.94      0.98      0.96       592\n",
            "\n",
            "    accuracy                           0.95      3121\n",
            "   macro avg       0.95      0.95      0.95      3121\n",
            "weighted avg       0.95      0.95      0.95      3121\n",
            "\n"
          ],
          "name": "stdout"
        }
      ]
    },
    {
      "cell_type": "code",
      "metadata": {
        "colab": {
          "base_uri": "https://localhost:8080/",
          "height": 516
        },
        "id": "5XN2CSOy4AAt",
        "outputId": "2841979c-a93c-4fba-f696-e5ba528c5a7f"
      },
      "source": [
        "models1 = ['Best SVC after Standardization', 'KNN after Standardization', 'Perceptron after Standardization']\n",
        "acc1 = [0.9919897468760013 , 0.9727651393784044, 0.9532201217558475 ]\n",
        "plt.figure(figsize=(8,8))\n",
        "plt.title('Accuracy after Standardization')\n",
        "sns.set_style('whitegrid')\n",
        "sns.lineplot(x=models1, y=acc1)"
      ],
      "execution_count": null,
      "outputs": [
        {
          "output_type": "execute_result",
          "data": {
            "text/plain": [
              "<matplotlib.axes._subplots.AxesSubplot at 0x7f85f9dd7990>"
            ]
          },
          "metadata": {
            "tags": []
          },
          "execution_count": 79
        },
        {
          "output_type": "display_data",
          "data": {
            "image/png": "[encoded data removed]",
            "text/plain": [
              "<Figure size 576x576 with 1 Axes>"
            ]
          },
          "metadata": {
            "tags": []
          }
        }
      ]
    },
    {
      "cell_type": "markdown",
      "metadata": {
        "id": "BEynZm0k4Zpe"
      },
      "source": [
        "##OVO and OVA implementation"
      ]
    },
    {
      "cell_type": "code",
      "metadata": {
        "id": "wY1pIMroDCql"
      },
      "source": [
        "from sklearn.multiclass import OneVsOneClassifier\n",
        "from sklearn.svm import LinearSVC\n",
        "from sklearn.multiclass import OneVsRestClassifier\n",
        "from sklearn.metrics import accuracy_score"
      ],
      "execution_count": null,
      "outputs": []
    },
    {
      "cell_type": "code",
      "metadata": {
        "colab": {
          "base_uri": "https://localhost:8080/"
        },
        "id": "VGrRvE7cD1o3",
        "outputId": "537f665e-af62-4528-a21d-63e980f9d366"
      },
      "source": [
        "ovo = SVC(C=0.1, break_ties=False, cache_size=200, class_weight=None, coef0=0.0,\n",
        "    decision_function_shape='ovr', degree=3, gamma=1, kernel='poly',\n",
        "    max_iter=-1, probability=False, random_state=None, shrinking=True,\n",
        "    tol=0.001, verbose=False)\n",
        "\n",
        "md = OneVsOneClassifier(ovo)\n",
        "md.fit(x_train, y_train.values.ravel())"
      ],
      "execution_count": null,
      "outputs": [
        {
          "output_type": "execute_result",
          "data": {
            "text/plain": [
              "OneVsOneClassifier(estimator=SVC(C=0.1, break_ties=False, cache_size=200,\n",
              "                                 class_weight=None, coef0=0.0,\n",
              "                                 decision_function_shape='ovr', degree=3,\n",
              "                                 gamma=1, kernel='poly', max_iter=-1,\n",
              "                                 probability=False, random_state=None,\n",
              "                                 shrinking=True, tol=0.001, verbose=False),\n",
              "                   n_jobs=None)"
            ]
          },
          "metadata": {
            "tags": []
          },
          "execution_count": 85
        }
      ]
    },
    {
      "cell_type": "code",
      "metadata": {
        "colab": {
          "base_uri": "https://localhost:8080/"
        },
        "id": "f5PLxUOR53k6",
        "outputId": "e119523f-bf59-4b38-9a95-0da87492ad2e"
      },
      "source": [
        "y_pred_ovo =md.predict(x_test)\n",
        "print(accuracy_score(y_pred_ovo,y_test))"
      ],
      "execution_count": null,
      "outputs": [
        {
          "output_type": "stream",
          "text": [
            "0.9926305671259211\n"
          ],
          "name": "stdout"
        }
      ]
    },
    {
      "cell_type": "code",
      "metadata": {
        "colab": {
          "base_uri": "https://localhost:8080/"
        },
        "id": "zQbRXoOiH7YN",
        "outputId": "9dad91b1-5330-460b-f688-bc709b49ab76"
      },
      "source": [
        "print(\"Classificaton report OVO\")\n",
        "print(classification_report(y_test, y_pred_ovo))"
      ],
      "execution_count": null,
      "outputs": [
        {
          "output_type": "stream",
          "text": [
            "Classificaton report OVO\n",
            "              precision    recall  f1-score   support\n",
            "\n",
            "           0       1.00      1.00      1.00       599\n",
            "           1       1.00      0.99      1.00       707\n",
            "           2       0.98      0.99      0.98       612\n",
            "           3       1.00      0.99      0.99       611\n",
            "           4       0.99      1.00      0.99       592\n",
            "\n",
            "    accuracy                           0.99      3121\n",
            "   macro avg       0.99      0.99      0.99      3121\n",
            "weighted avg       0.99      0.99      0.99      3121\n",
            "\n"
          ],
          "name": "stdout"
        }
      ]
    },
    {
      "cell_type": "code",
      "metadata": {
        "colab": {
          "base_uri": "https://localhost:8080/"
        },
        "id": "U_MQVTmr6Lkb",
        "outputId": "846ba2fd-1b9c-450b-f500-2acfdd42dd8b"
      },
      "source": [
        "ovo = SVC(C=0.1, break_ties=False, cache_size=200, class_weight=None, coef0=0.0,\n",
        "    decision_function_shape='ovr', degree=3, gamma=1, kernel='poly',\n",
        "    max_iter=-1, probability=False, random_state=None, shrinking=True,\n",
        "    tol=0.001, verbose=False)\n",
        "\n",
        "md2 = OneVsRestClassifier(ovo)\n",
        "md2.fit(x_train, y_train.values.ravel())"
      ],
      "execution_count": null,
      "outputs": [
        {
          "output_type": "execute_result",
          "data": {
            "text/plain": [
              "OneVsRestClassifier(estimator=SVC(C=0.1, break_ties=False, cache_size=200,\n",
              "                                  class_weight=None, coef0=0.0,\n",
              "                                  decision_function_shape='ovr', degree=3,\n",
              "                                  gamma=1, kernel='poly', max_iter=-1,\n",
              "                                  probability=False, random_state=None,\n",
              "                                  shrinking=True, tol=0.001, verbose=False),\n",
              "                    n_jobs=None)"
            ]
          },
          "metadata": {
            "tags": []
          },
          "execution_count": 89
        }
      ]
    },
    {
      "cell_type": "code",
      "metadata": {
        "colab": {
          "base_uri": "https://localhost:8080/"
        },
        "id": "CXUQYhwL6MMf",
        "outputId": "5ce1a8d9-2f4c-4a2d-9a70-e87b1aaa79bc"
      },
      "source": [
        "y_pred_ova=md2.predict(x_test)\n",
        "print(accuracy_score(y_pred_ova,y_test))"
      ],
      "execution_count": null,
      "outputs": [
        {
          "output_type": "stream",
          "text": [
            "0.9939122076257609\n"
          ],
          "name": "stdout"
        }
      ]
    },
    {
      "cell_type": "code",
      "metadata": {
        "colab": {
          "base_uri": "https://localhost:8080/"
        },
        "id": "4pfysXqSHygj",
        "outputId": "b8e12308-cdee-4c4a-ba40-948279a5d900"
      },
      "source": [
        "print(\"Classificaton report OVA\")\n",
        "print(classification_report(y_test, y_pred_ova))"
      ],
      "execution_count": null,
      "outputs": [
        {
          "output_type": "stream",
          "text": [
            "Classificaton report OVA\n",
            "              precision    recall  f1-score   support\n",
            "\n",
            "           0       1.00      1.00      1.00       599\n",
            "           1       1.00      0.99      1.00       707\n",
            "           2       0.99      0.99      0.99       612\n",
            "           3       1.00      0.99      0.99       611\n",
            "           4       0.99      1.00      0.99       592\n",
            "\n",
            "    accuracy                           0.99      3121\n",
            "   macro avg       0.99      0.99      0.99      3121\n",
            "weighted avg       0.99      0.99      0.99      3121\n",
            "\n"
          ],
          "name": "stdout"
        }
      ]
    },
    {
      "cell_type": "code",
      "metadata": {
        "colab": {
          "base_uri": "https://localhost:8080/",
          "height": 628
        },
        "id": "9MdQk3r26Y_b",
        "outputId": "610d69cd-df14-4d61-ae75-31d71fb58c80"
      },
      "source": [
        "models2 = ['SVC','Best SVC ', 'KNN', 'Perceptron','Best SVC after Standardization', 'KNN after Standardization', 'Perceptron after Standardization', 'OVO', 'OVA']\n",
        "acc2 = [ 0.9910285165011214, 0.9948734380006409 , 0.9903876962512015, 0.9589875040051266, 0.9919897468760013 , 0.9727651393784044, 0.9532201217558475, 0.9926305671259211, 0.9939122076257609 ]\n",
        "\n",
        "plt.figure(figsize=(12,8))\n",
        "plt.title('Accuracy')\n",
        "plt.xticks(rotation=45)\n",
        "sns.set_style('whitegrid')\n",
        "sns.lineplot(x=models2, y=acc2)"
      ],
      "execution_count": null,
      "outputs": [
        {
          "output_type": "execute_result",
          "data": {
            "text/plain": [
              "<matplotlib.axes._subplots.AxesSubplot at 0x7f85f9d67b50>"
            ]
          },
          "metadata": {
            "tags": []
          },
          "execution_count": 92
        },
        {
          "output_type": "display_data",
          "data": {
            "image/png": "[encoded data removed]",
            "text/plain": [
              "<Figure size 864x576 with 1 Axes>"
            ]
          },
          "metadata": {
            "tags": []
          }
        }
      ]
    }
  ]
}