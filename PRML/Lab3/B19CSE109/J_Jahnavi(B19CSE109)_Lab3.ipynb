{
  "nbformat": 4,
  "nbformat_minor": 0,
  "metadata": {
    "colab": {
      "name": "J Jahnavi(B19CSE109)_Lab3.ipynb",
      "provenance": [],
      "collapsed_sections": []
    },
    "kernelspec": {
      "name": "python3",
      "display_name": "Python 3"
    },
    "language_info": {
      "name": "python"
    }
  },
  "cells": [
    {
      "cell_type": "markdown",
      "metadata": {
        "id": "c1bdHZpVR49x"
      },
      "source": [
        "Dependecies: Add your Dependencies here"
      ]
    },
    {
      "cell_type": "code",
      "metadata": {
        "id": "ZAhH4iltSA-g"
      },
      "source": [
        "import pandas as pd\n",
        "import numpy as np\n",
        "import seaborn as sns\n",
        "from matplotlib import pyplot as plt\n",
        "from matplotlib import rcParams\n",
        "rcParams['figure.figsize']= 10,10\n",
        "from sklearn.ensemble import BaggingClassifier"
      ],
      "execution_count": null,
      "outputs": []
    },
    {
      "cell_type": "code",
      "metadata": {
        "id": "5Ane03_rScpA",
        "colab": {
          "base_uri": "https://localhost:8080/"
        },
        "outputId": "981f6913-f1eb-4131-8b18-4a391ec16036"
      },
      "source": [
        "from google.colab import drive\n",
        "drive.mount('/content/drive')\n",
        "file_path = '/content/drive/My Drive/credit_scoring_sample.csv'"
      ],
      "execution_count": null,
      "outputs": [
        {
          "output_type": "stream",
          "text": [
            "Drive already mounted at /content/drive; to attempt to forcibly remount, call drive.mount(\"/content/drive\", force_remount=True).\n"
          ],
          "name": "stdout"
        }
      ]
    },
    {
      "cell_type": "markdown",
      "metadata": {
        "id": "F5ZZ6LuuSvP-"
      },
      "source": [
        "Read the dataset from the CSV file"
      ]
    },
    {
      "cell_type": "code",
      "metadata": {
        "colab": {
          "base_uri": "https://localhost:8080/",
          "height": 399
        },
        "id": "LWGOAbf7Sxiu",
        "outputId": "242c3223-f51a-4658-f486-8c6c17789805"
      },
      "source": [
        "# dic = {'Serious_Dlq_in_2yrs':0,'Debt_Ratio':0.24,'age':23,'Number_Of_Time_30-59_Days_Past_Due':0,'Number_Of_Time_60-89_Days_Past_Due':0,'Number_Of_Times_90_Days_Late':0,'Monthly_Income':78,'Dependents':0}\n",
        "# data = pd.DataFrame(dic,index=[0])\n",
        "# data\n",
        "data = pd.read_csv(file_path)\n",
        "data\n"
      ],
      "execution_count": null,
      "outputs": [
        {
          "output_type": "execute_result",
          "data": {
            "text/html": [
              "<div>\n",
              "<style scoped>\n",
              "    .dataframe tbody tr th:only-of-type {\n",
              "        vertical-align: middle;\n",
              "    }\n",
              "\n",
              "    .dataframe tbody tr th {\n",
              "        vertical-align: top;\n",
              "    }\n",
              "\n",
              "    .dataframe thead th {\n",
              "        text-align: right;\n",
              "    }\n",
              "</style>\n",
              "<table border=\"1\" class=\"dataframe\">\n",
              "  <thead>\n",
              "    <tr style=\"text-align: right;\">\n",
              "      <th></th>\n",
              "      <th>Serious_Dlq_in_2yrs</th>\n",
              "      <th>Debt_Ratio</th>\n",
              "      <th>age</th>\n",
              "      <th>Number_Of_Time_30-59_Days_Past_Due</th>\n",
              "      <th>Number_Of_Time_60-89_Days_Past_Due</th>\n",
              "      <th>Number_Of_Times_90_Days_Late</th>\n",
              "      <th>Monthly_Income</th>\n",
              "      <th>Dependents</th>\n",
              "    </tr>\n",
              "  </thead>\n",
              "  <tbody>\n",
              "    <tr>\n",
              "      <th>0</th>\n",
              "      <td>0</td>\n",
              "      <td>454.000000</td>\n",
              "      <td>21</td>\n",
              "      <td>0</td>\n",
              "      <td>0</td>\n",
              "      <td>0</td>\n",
              "      <td>NaN</td>\n",
              "      <td>NaN</td>\n",
              "    </tr>\n",
              "    <tr>\n",
              "      <th>1</th>\n",
              "      <td>1</td>\n",
              "      <td>0.174377</td>\n",
              "      <td>22</td>\n",
              "      <td>1</td>\n",
              "      <td>1</td>\n",
              "      <td>1</td>\n",
              "      <td>280.0</td>\n",
              "      <td>0.0</td>\n",
              "    </tr>\n",
              "    <tr>\n",
              "      <th>2</th>\n",
              "      <td>0</td>\n",
              "      <td>0.000000</td>\n",
              "      <td>22</td>\n",
              "      <td>0</td>\n",
              "      <td>0</td>\n",
              "      <td>0</td>\n",
              "      <td>1500.0</td>\n",
              "      <td>0.0</td>\n",
              "    </tr>\n",
              "    <tr>\n",
              "      <th>3</th>\n",
              "      <td>1</td>\n",
              "      <td>0.000000</td>\n",
              "      <td>23</td>\n",
              "      <td>98</td>\n",
              "      <td>98</td>\n",
              "      <td>98</td>\n",
              "      <td>NaN</td>\n",
              "      <td>0.0</td>\n",
              "    </tr>\n",
              "    <tr>\n",
              "      <th>4</th>\n",
              "      <td>1</td>\n",
              "      <td>111.000000</td>\n",
              "      <td>23</td>\n",
              "      <td>0</td>\n",
              "      <td>1</td>\n",
              "      <td>2</td>\n",
              "      <td>NaN</td>\n",
              "      <td>0.0</td>\n",
              "    </tr>\n",
              "    <tr>\n",
              "      <th>...</th>\n",
              "      <td>...</td>\n",
              "      <td>...</td>\n",
              "      <td>...</td>\n",
              "      <td>...</td>\n",
              "      <td>...</td>\n",
              "      <td>...</td>\n",
              "      <td>...</td>\n",
              "      <td>...</td>\n",
              "    </tr>\n",
              "    <tr>\n",
              "      <th>994</th>\n",
              "      <td>0</td>\n",
              "      <td>0.065758</td>\n",
              "      <td>89</td>\n",
              "      <td>0</td>\n",
              "      <td>0</td>\n",
              "      <td>0</td>\n",
              "      <td>10416.0</td>\n",
              "      <td>0.0</td>\n",
              "    </tr>\n",
              "    <tr>\n",
              "      <th>995</th>\n",
              "      <td>0</td>\n",
              "      <td>0.019423</td>\n",
              "      <td>90</td>\n",
              "      <td>0</td>\n",
              "      <td>0</td>\n",
              "      <td>0</td>\n",
              "      <td>3500.0</td>\n",
              "      <td>0.0</td>\n",
              "    </tr>\n",
              "    <tr>\n",
              "      <th>996</th>\n",
              "      <td>0</td>\n",
              "      <td>0.173890</td>\n",
              "      <td>91</td>\n",
              "      <td>0</td>\n",
              "      <td>0</td>\n",
              "      <td>0</td>\n",
              "      <td>5767.0</td>\n",
              "      <td>0.0</td>\n",
              "    </tr>\n",
              "    <tr>\n",
              "      <th>997</th>\n",
              "      <td>0</td>\n",
              "      <td>32.000000</td>\n",
              "      <td>92</td>\n",
              "      <td>0</td>\n",
              "      <td>0</td>\n",
              "      <td>0</td>\n",
              "      <td>NaN</td>\n",
              "      <td>0.0</td>\n",
              "    </tr>\n",
              "    <tr>\n",
              "      <th>998</th>\n",
              "      <td>0</td>\n",
              "      <td>0.000000</td>\n",
              "      <td>94</td>\n",
              "      <td>0</td>\n",
              "      <td>0</td>\n",
              "      <td>0</td>\n",
              "      <td>NaN</td>\n",
              "      <td>0.0</td>\n",
              "    </tr>\n",
              "  </tbody>\n",
              "</table>\n",
              "<p>999 rows × 8 columns</p>\n",
              "</div>"
            ],
            "text/plain": [
              "     Serious_Dlq_in_2yrs  Debt_Ratio  ...  Monthly_Income  Dependents\n",
              "0                      0  454.000000  ...             NaN         NaN\n",
              "1                      1    0.174377  ...           280.0         0.0\n",
              "2                      0    0.000000  ...          1500.0         0.0\n",
              "3                      1    0.000000  ...             NaN         0.0\n",
              "4                      1  111.000000  ...             NaN         0.0\n",
              "..                   ...         ...  ...             ...         ...\n",
              "994                    0    0.065758  ...         10416.0         0.0\n",
              "995                    0    0.019423  ...          3500.0         0.0\n",
              "996                    0    0.173890  ...          5767.0         0.0\n",
              "997                    0   32.000000  ...             NaN         0.0\n",
              "998                    0    0.000000  ...             NaN         0.0\n",
              "\n",
              "[999 rows x 8 columns]"
            ]
          },
          "metadata": {
            "tags": []
          },
          "execution_count": 561
        }
      ]
    },
    {
      "cell_type": "code",
      "metadata": {
        "id": "n5gKW5Y3VHYi",
        "colab": {
          "base_uri": "https://localhost:8080/",
          "height": 334
        },
        "outputId": "efa6e427-240c-4f4c-f1ab-55e901bfbaf8"
      },
      "source": [
        "# Plot Distrubution of the target variable\n",
        "plt.figure(figsize=(5,5))\n",
        "plt.scatter(data.index , data['Serious_Dlq_in_2yrs'],color='grey')\n",
        "plt.xlabel(\"index\")\n",
        "plt.ylabel(\"Serious_Dlq_in_2yrs\")\n",
        "plt.show()"
      ],
      "execution_count": null,
      "outputs": [
        {
          "output_type": "display_data",
          "data": {
            "image/png": "[encoded data removed]",
            "text/plain": [
              "<Figure size 360x360 with 1 Axes>"
            ]
          },
          "metadata": {
            "tags": [],
            "needs_background": "light"
          }
        }
      ]
    },
    {
      "cell_type": "code",
      "metadata": {
        "colab": {
          "base_uri": "https://localhost:8080/"
        },
        "id": "tjs5Iu_EH5f-",
        "outputId": "7e81d8c7-2536-42f5-8465-faf4204a078d"
      },
      "source": [
        "data.isna().sum()"
      ],
      "execution_count": null,
      "outputs": [
        {
          "output_type": "execute_result",
          "data": {
            "text/plain": [
              "Serious_Dlq_in_2yrs                     0\n",
              "Debt_Ratio                              0\n",
              "age                                     0\n",
              "Number_Of_Time_30-59_Days_Past_Due      0\n",
              "Number_Of_Time_60-89_Days_Past_Due      0\n",
              "Number_Of_Times_90_Days_Late            0\n",
              "Monthly_Income                        186\n",
              "Dependents                             23\n",
              "dtype: int64"
            ]
          },
          "metadata": {
            "tags": []
          },
          "execution_count": 563
        }
      ]
    },
    {
      "cell_type": "code",
      "metadata": {
        "id": "Y3bVn6c-Vk1C",
        "colab": {
          "base_uri": "https://localhost:8080/"
        },
        "outputId": "4cbcda30-b949-4bbe-e508-fea8fd1a1e2d"
      },
      "source": [
        "# Handle the NaN values\n",
        "data['Monthly_Income'].fillna((data['Monthly_Income'].mean()), inplace=True)\n",
        "data['Dependents'].fillna((data['Dependents'].mean()), inplace=True)\n",
        "data.isna().sum() #verifying"
      ],
      "execution_count": null,
      "outputs": [
        {
          "output_type": "execute_result",
          "data": {
            "text/plain": [
              "Serious_Dlq_in_2yrs                   0\n",
              "Debt_Ratio                            0\n",
              "age                                   0\n",
              "Number_Of_Time_30-59_Days_Past_Due    0\n",
              "Number_Of_Time_60-89_Days_Past_Due    0\n",
              "Number_Of_Times_90_Days_Late          0\n",
              "Monthly_Income                        0\n",
              "Dependents                            0\n",
              "dtype: int64"
            ]
          },
          "metadata": {
            "tags": []
          },
          "execution_count": 564
        }
      ]
    },
    {
      "cell_type": "code",
      "metadata": {
        "id": "gM817FetVsSO",
        "colab": {
          "base_uri": "https://localhost:8080/",
          "height": 1000
        },
        "outputId": "33df0df5-5ca4-47e0-c386-353af12dde63"
      },
      "source": [
        "# Visualize the distribution of data for every feature\n",
        "for x in data.columns:\n",
        "  if x != \"Serious_Dlq_in_2yrs\":\n",
        "    plt.figure(figsize=(5,5))\n",
        "    plt.xlabel(\"index\")\n",
        "    plt.ylabel(x)\n",
        "    plt.scatter(data.index,data[x],color='grey')\n",
        "    plt.show()\n",
        "    print(\"\\n\")"
      ],
      "execution_count": null,
      "outputs": [
        {
          "output_type": "display_data",
          "data": {
            "image/png": "[encoded data removed]",
            "text/plain": [
              "<Figure size 360x360 with 1 Axes>"
            ]
          },
          "metadata": {
            "tags": [],
            "needs_background": "light"
          }
        },
        {
          "output_type": "stream",
          "text": [
            "\n",
            "\n"
          ],
          "name": "stdout"
        },
        {
          "output_type": "display_data",
          "data": {
            "image/png": "[encoded data removed]",
            "text/plain": [
              "<Figure size 360x360 with 1 Axes>"
            ]
          },
          "metadata": {
            "tags": [],
            "needs_background": "light"
          }
        },
        {
          "output_type": "stream",
          "text": [
            "\n",
            "\n"
          ],
          "name": "stdout"
        },
        {
          "output_type": "display_data",
          "data": {
            "image/png": "[encoded data removed]",
            "text/plain": [
              "<Figure size 360x360 with 1 Axes>"
            ]
          },
          "metadata": {
            "tags": [],
            "needs_background": "light"
          }
        },
        {
          "output_type": "stream",
          "text": [
            "\n",
            "\n"
          ],
          "name": "stdout"
        },
        {
          "output_type": "display_data",
          "data": {
            "image/png": "[encoded data removed]",
            "text/plain": [
              "<Figure size 360x360 with 1 Axes>"
            ]
          },
          "metadata": {
            "tags": [],
            "needs_background": "light"
          }
        },
        {
          "output_type": "stream",
          "text": [
            "\n",
            "\n"
          ],
          "name": "stdout"
        },
        {
          "output_type": "display_data",
          "data": {
            "image/png": "[encoded data removed]",
            "text/plain": [
              "<Figure size 360x360 with 1 Axes>"
            ]
          },
          "metadata": {
            "tags": [],
            "needs_background": "light"
          }
        },
        {
          "output_type": "stream",
          "text": [
            "\n",
            "\n"
          ],
          "name": "stdout"
        },
        {
          "output_type": "display_data",
          "data": {
            "image/png": "[encoded data removed]",
            "text/plain": [
              "<Figure size 360x360 with 1 Axes>"
            ]
          },
          "metadata": {
            "tags": [],
            "needs_background": "light"
          }
        },
        {
          "output_type": "stream",
          "text": [
            "\n",
            "\n"
          ],
          "name": "stdout"
        },
        {
          "output_type": "display_data",
          "data": {
            "image/png": "[encoded data removed]",
            "text/plain": [
              "<Figure size 360x360 with 1 Axes>"
            ]
          },
          "metadata": {
            "tags": [],
            "needs_background": "light"
          }
        },
        {
          "output_type": "stream",
          "text": [
            "\n",
            "\n"
          ],
          "name": "stdout"
        }
      ]
    },
    {
      "cell_type": "markdown",
      "metadata": {
        "id": "z8iur7tiWuwT"
      },
      "source": [
        "Train the Random Forest Classifier"
      ]
    },
    {
      "cell_type": "code",
      "metadata": {
        "id": "6HCU6WgdW9hP"
      },
      "source": [
        "# seperate depedendent and independent variables from the dataset\n",
        "from sklearn.model_selection import train_test_split\n",
        "x= data.drop(columns=['Serious_Dlq_in_2yrs']) #independent variables\n",
        "y = data['Serious_Dlq_in_2yrs']#dependent variables\n",
        "x_train, x_test, y_train, y_test = train_test_split(x, y, test_size=0.33, random_state=42)"
      ],
      "execution_count": null,
      "outputs": []
    },
    {
      "cell_type": "code",
      "metadata": {
        "colab": {
          "base_uri": "https://localhost:8080/"
        },
        "id": "17lSTYwNbkQ8",
        "outputId": "8758397a-9222-42ea-ac55-691c21221aa7"
      },
      "source": [
        "from sklearn.ensemble import RandomForestClassifier\n",
        "from sklearn.model_selection import StratifiedKFold\n",
        "from sklearn.model_selection import GridSearchCV\n",
        "\n",
        "acc_score =[]\n",
        "skf = StratifiedKFold(n_splits = 11,shuffle=True,random_state=None)\n",
        "rf1 = RandomForestClassifier( random_state=2,max_depth = 3,n_estimators =50,max_features=4)\n",
        "rf2 = RandomForestClassifier( random_state=2,max_depth = 3,n_estimators =100,max_features=4)\n",
        "rf3 = RandomForestClassifier( random_state=2,max_depth = 4,n_estimators =50,max_features=3)\n",
        "rf4 = RandomForestClassifier( random_state=2,max_depth = 4,n_estimators =100,max_features=3)\n",
        "rf5 = RandomForestClassifier( random_state=2,max_depth = 2,n_estimators =50)\n",
        "rf6 = RandomForestClassifier( random_state=2,max_depth = 2,n_estimators =100)\n",
        "rf7 = RandomForestClassifier( random_state=2,max_depth = 5,n_estimators =100,max_features=2)\n",
        "rf = [rf1,rf2,rf3,rf4,rf5,rf6,rf7]\n",
        "#max_acc=0\n",
        "acc = []\n",
        "max_acc = []\n",
        "#skf.get_n_splits(x,y)\n",
        "for train_i,test_i in skf.split(x,y):\n",
        "  x_train, x_test = x.iloc[train_i,:], x.iloc[test_i,:] \n",
        "  y_train, y_test = y[train_i], y[test_i]\n",
        "  acc_var = []\n",
        "  a = 0\n",
        "  for i in rf:\n",
        "    i.fit(x_train,y_train)\n",
        "    acc_score = i.score(x_test, y_test)\n",
        "    acc_var.append(acc_score)\n",
        "    if(a < acc_score):\n",
        "      a = acc_score\n",
        "      index = rf.index(i)\n",
        "  acc.append(acc_var)\n",
        "  max_acc.append(index)\n",
        " \n",
        "print(max_acc)\n"
      ],
      "execution_count": null,
      "outputs": [
        {
          "output_type": "stream",
          "text": [
            "[0, 1, 0, 6, 2, 2, 0, 3, 4, 6, 4]\n"
          ],
          "name": "stdout"
        }
      ]
    },
    {
      "cell_type": "markdown",
      "metadata": {
        "id": "sv0WDf_NblUR"
      },
      "source": [
        "Final model after manual check of parameters"
      ]
    },
    {
      "cell_type": "code",
      "metadata": {
        "colab": {
          "base_uri": "https://localhost:8080/"
        },
        "id": "rQXoIC7Cbkbm",
        "outputId": "5a3c945d-abe3-4534-e941-eb6365a086f1"
      },
      "source": [
        "#final model selection \n",
        "max_occ =0;\n",
        "index =1\n",
        "for i in max_acc:\n",
        "  a = max_acc.count(i)\n",
        "  if(a>max_occ):\n",
        "    max_occ =a\n",
        "    index =i\n",
        "max_occ\n",
        "index "
      ],
      "execution_count": null,
      "outputs": [
        {
          "output_type": "execute_result",
          "data": {
            "text/plain": [
              "0"
            ]
          },
          "metadata": {
            "tags": []
          },
          "execution_count": 568
        }
      ]
    },
    {
      "cell_type": "code",
      "metadata": {
        "colab": {
          "base_uri": "https://localhost:8080/"
        },
        "id": "2-vJfCGqbwT3",
        "outputId": "792b3246-7865-45e0-e1e3-0f84be7c95d6"
      },
      "source": [
        "model = rf[index]\n",
        "model.score(x_test,y_test) "
      ],
      "execution_count": null,
      "outputs": [
        {
          "output_type": "execute_result",
          "data": {
            "text/plain": [
              "0.8222222222222222"
            ]
          },
          "metadata": {
            "tags": []
          },
          "execution_count": 569
        }
      ]
    },
    {
      "cell_type": "code",
      "metadata": {
        "colab": {
          "base_uri": "https://localhost:8080/"
        },
        "id": "4sb_iN30bx-2",
        "outputId": "62424b1e-01f6-4231-f9b8-c44217d352a3"
      },
      "source": [
        "skf_f = StratifiedKFold(n_splits = 5,shuffle=True,random_state=None)\n",
        "final_acc = []\n",
        "for train_i,test_i in skf_f.split(x,y):\n",
        "  x_train, x_test = x.iloc[train_i,:], x.iloc[test_i,:] \n",
        "  y_train, y_test = y[train_i], y[test_i]\n",
        "  model.fit(x_train,y_train)\n",
        "  final_acc.append(model.score(x_test,y_test))\n",
        "final_acc"
      ],
      "execution_count": null,
      "outputs": [
        {
          "output_type": "execute_result",
          "data": {
            "text/plain": [
              "[0.82, 0.825, 0.755, 0.805, 0.7989949748743719]"
            ]
          },
          "metadata": {
            "tags": []
          },
          "execution_count": 570
        }
      ]
    },
    {
      "cell_type": "markdown",
      "metadata": {
        "id": "vo4iAoBOb07y"
      },
      "source": [
        "Using GridSearchCV"
      ]
    },
    {
      "cell_type": "code",
      "metadata": {
        "id": "r20IBUNmXOKM"
      },
      "source": [
        "# define parameters for the random forest\n",
        "parameters = {'max_features': [1, 2, 4], 'min_samples_leaf': [3, 5, 7], 'max_depth': [3,4,5],'n_estimators':[50,100]}\n",
        "rf =  RandomForestClassifier(n_estimators = 100,random_state = 42)"
      ],
      "execution_count": null,
      "outputs": []
    },
    {
      "cell_type": "code",
      "metadata": {
        "id": "JhQA2dzeXZpg"
      },
      "source": [
        "# perform cross validation\n",
        "skf = StratifiedKFold(n_splits=10, shuffle=True, random_state=5)"
      ],
      "execution_count": null,
      "outputs": []
    },
    {
      "cell_type": "code",
      "metadata": {
        "id": "FE7AZCemXrmh",
        "colab": {
          "base_uri": "https://localhost:8080/"
        },
        "outputId": "1cd603fd-97fd-47a5-a619-9cf740b9324b"
      },
      "source": [
        "# perform grid search\n",
        "grid_search = GridSearchCV(rf, parameters, n_jobs=-1, scoring='roc_auc', cv=skf)\n",
        "grid_search.fit(x_train, y_train.ravel()) \n"
      ],
      "execution_count": null,
      "outputs": [
        {
          "output_type": "execute_result",
          "data": {
            "text/plain": [
              "GridSearchCV(cv=StratifiedKFold(n_splits=10, random_state=5, shuffle=True),\n",
              "             error_score=nan,\n",
              "             estimator=RandomForestClassifier(bootstrap=True, ccp_alpha=0.0,\n",
              "                                              class_weight=None,\n",
              "                                              criterion='gini', max_depth=None,\n",
              "                                              max_features='auto',\n",
              "                                              max_leaf_nodes=None,\n",
              "                                              max_samples=None,\n",
              "                                              min_impurity_decrease=0.0,\n",
              "                                              min_impurity_split=None,\n",
              "                                              min_samples_leaf=1,\n",
              "                                              min_samples_split=2,\n",
              "                                              min_weight_fraction_leaf=0.0,\n",
              "                                              n_estimators=100, n_jobs=None,\n",
              "                                              oob_score=False, random_state=42,\n",
              "                                              verbose=0, warm_start=False),\n",
              "             iid='deprecated', n_jobs=-1,\n",
              "             param_grid={'max_depth': [3, 4, 5], 'max_features': [1, 2, 4],\n",
              "                         'min_samples_leaf': [3, 5, 7],\n",
              "                         'n_estimators': [50, 100]},\n",
              "             pre_dispatch='2*n_jobs', refit=True, return_train_score=False,\n",
              "             scoring='roc_auc', verbose=0)"
            ]
          },
          "metadata": {
            "tags": []
          },
          "execution_count": 573
        }
      ]
    },
    {
      "cell_type": "code",
      "metadata": {
        "id": "OQBsgN-7YBY8",
        "colab": {
          "base_uri": "https://localhost:8080/"
        },
        "outputId": "0a3ddfb3-53b7-4f38-f889-a9c0558d716f"
      },
      "source": [
        "#Get the best score from the grid search\n",
        "print(grid_search.best_score_) "
      ],
      "execution_count": null,
      "outputs": [
        {
          "output_type": "stream",
          "text": [
            "0.8132068452380954\n"
          ],
          "name": "stdout"
        }
      ]
    },
    {
      "cell_type": "code",
      "metadata": {
        "colab": {
          "base_uri": "https://localhost:8080/"
        },
        "id": "JPeK6cCwXweT",
        "outputId": "e77b2c1d-4095-4235-ffe0-263a87b4253f"
      },
      "source": [
        "print(grid_search.best_params_)"
      ],
      "execution_count": null,
      "outputs": [
        {
          "output_type": "stream",
          "text": [
            "{'max_depth': 4, 'max_features': 4, 'min_samples_leaf': 7, 'n_estimators': 50}\n"
          ],
          "name": "stdout"
        }
      ]
    },
    {
      "cell_type": "code",
      "metadata": {
        "colab": {
          "base_uri": "https://localhost:8080/"
        },
        "id": "iqjIP6rsSZzh",
        "outputId": "3330d490-2ac0-47b2-8701-448305869908"
      },
      "source": [
        "from sklearn.model_selection import cross_val_score\n",
        "model.set_params = (grid_search.best_params_)\n",
        "scores = cross_val_score(model, x, y, cv = skf_f, scoring='roc_auc')\n",
        "scores"
      ],
      "execution_count": null,
      "outputs": [
        {
          "output_type": "execute_result",
          "data": {
            "text/plain": [
              "array([0.82446429, 0.76470238, 0.87071429, 0.80029762, 0.78770983])"
            ]
          },
          "metadata": {
            "tags": []
          },
          "execution_count": 576
        }
      ]
    },
    {
      "cell_type": "code",
      "metadata": {
        "colab": {
          "base_uri": "https://localhost:8080/"
        },
        "id": "HoE2L7MVd6PO",
        "outputId": "df6cae13-dffd-40a7-9a9e-d516e241fa66"
      },
      "source": [
        "#Final Trained Model\n",
        "model.fit(x_train,y_train)"
      ],
      "execution_count": null,
      "outputs": [
        {
          "output_type": "execute_result",
          "data": {
            "text/plain": [
              "RandomForestClassifier(bootstrap=True, ccp_alpha=0.0, class_weight=None,\n",
              "                       criterion='gini', max_depth=3, max_features=4,\n",
              "                       max_leaf_nodes=None, max_samples=None,\n",
              "                       min_impurity_decrease=0.0, min_impurity_split=None,\n",
              "                       min_samples_leaf=1, min_samples_split=2,\n",
              "                       min_weight_fraction_leaf=0.0, n_estimators=50,\n",
              "                       n_jobs=None, oob_score=False, random_state=2, verbose=0,\n",
              "                       warm_start=False)"
            ]
          },
          "metadata": {
            "tags": []
          },
          "execution_count": 577
        }
      ]
    },
    {
      "cell_type": "code",
      "metadata": {
        "colab": {
          "base_uri": "https://localhost:8080/"
        },
        "id": "cAnpvwfk6e_j",
        "outputId": "2368cab0-db19-45e9-c774-9a80614c5403"
      },
      "source": [
        "# Find the feature which has the weakest impact in Random Forest Model\n",
        "features = pd.Series(clf.feature_importances_,index=x_train.columns).sort_values(ascending=False)\n",
        "print(features)"
      ],
      "execution_count": null,
      "outputs": [
        {
          "output_type": "stream",
          "text": [
            "Number_Of_Time_30-59_Days_Past_Due    0.229726\n",
            "Number_Of_Times_90_Days_Late          0.218222\n",
            "Monthly_Income                        0.142937\n",
            "age                                   0.132613\n",
            "Number_Of_Time_60-89_Days_Past_Due    0.130001\n",
            "Debt_Ratio                            0.113098\n",
            "Dependents                            0.033403\n",
            "dtype: float64\n"
          ],
          "name": "stdout"
        }
      ]
    },
    {
      "cell_type": "code",
      "metadata": {
        "colab": {
          "base_uri": "https://localhost:8080/",
          "height": 313
        },
        "id": "xOxs7j4z6p4U",
        "outputId": "fb6276eb-efc1-423c-d886-c6e707af8819"
      },
      "source": [
        "import seaborn as sns\n",
        "%matplotlib inline\n",
        "# Creating a bar plot\n",
        "sns.barplot(x=features, y=features.index)\n",
        "# Add labels to your graph\n",
        "plt.xlabel('Feature Importance Score')\n",
        "plt.ylabel('Features')\n",
        "plt.title(\"Visualizing Important Features\")\n",
        "plt.legend()\n",
        "plt.show()"
      ],
      "execution_count": null,
      "outputs": [
        {
          "output_type": "stream",
          "text": [
            "No handles with labels found to put in legend.\n"
          ],
          "name": "stderr"
        },
        {
          "output_type": "display_data",
          "data": {
            "image/png": "[encoded data removed]",
            "text/plain": [
              "<Figure size 432x288 with 1 Axes>"
            ]
          },
          "metadata": {
            "tags": [],
            "needs_background": "light"
          }
        }
      ]
    },
    {
      "cell_type": "code",
      "metadata": {
        "id": "7Jaw-AA-YIv8",
        "colab": {
          "base_uri": "https://localhost:8080/",
          "height": 314
        },
        "outputId": "69d9054f-36db-441d-d40e-823d9ad728d3"
      },
      "source": [
        "# Find the feature which has the weakest impact in Random Forest Model\n",
        "from sklearn.inspection import plot_partial_dependence\n",
        "ft = [0,1,2,3,4,5,6]\n",
        "f = data.columns\n",
        "plot_partial_dependence(gsbe,x,ft,feature_names= f[1:],grid_resolution=5)"
      ],
      "execution_count": null,
      "outputs": [
        {
          "output_type": "execute_result",
          "data": {
            "text/plain": [
              "<sklearn.inspection._partial_dependence.PartialDependenceDisplay at 0x7f8c79400090>"
            ]
          },
          "metadata": {
            "tags": []
          },
          "execution_count": 580
        },
        {
          "output_type": "display_data",
          "data": {
            "image/png": "[encoded data removed]",
            "text/plain": [
              "<Figure size 432x288 with 8 Axes>"
            ]
          },
          "metadata": {
            "tags": [],
            "needs_background": "light"
          }
        }
      ]
    },
    {
      "cell_type": "code",
      "metadata": {
        "id": "QZuGyMe8YMDp"
      },
      "source": [
        "# Perform bagging classification using decision trees as the base classifier"
      ],
      "execution_count": null,
      "outputs": []
    },
    {
      "cell_type": "code",
      "metadata": {
        "id": "w_aJPspMYQI-"
      },
      "source": [
        "from sklearn.ensemble import BaggingClassifier\n",
        "from sklearn.tree import DecisionTreeClassifier\n",
        "from sklearn.model_selection import RepeatedStratifiedKFold\n",
        "from sklearn.model_selection import cross_val_score"
      ],
      "execution_count": null,
      "outputs": []
    },
    {
      "cell_type": "code",
      "metadata": {
        "id": "HIVaDgrBmL9D"
      },
      "source": [
        "# explore bagging ensemble number of trees effect on performance\n",
        "from numpy import mean\n",
        "from numpy import std\n",
        "from sklearn.datasets import make_classification\n",
        "from sklearn.model_selection import cross_val_score\n",
        "from sklearn.model_selection import RepeatedStratifiedKFold\n",
        "from sklearn.ensemble import BaggingClassifier\n",
        "from matplotlib import pyplot"
      ],
      "execution_count": null,
      "outputs": []
    },
    {
      "cell_type": "code",
      "metadata": {
        "id": "q9JwYgWfYU_f"
      },
      "source": [
        "# get a list of models to evaluate\n",
        "def get_models():\n",
        "\tmodels = dict()\n",
        "\t# define number of trees to consider\n",
        "\tn_trees = [2,3,4]\n",
        "\tfor n in n_trees:\n",
        "\t\tmodels[str(n)] = BaggingClassifier(n_estimators=n)\n",
        "\treturn models"
      ],
      "execution_count": null,
      "outputs": []
    },
    {
      "cell_type": "code",
      "metadata": {
        "id": "98NB3pA8YuhJ"
      },
      "source": [
        "# evaluate a given model using cross-validation\n",
        "def evaluate_model(model, x, y):\n",
        "\t# define the evaluation procedure\n",
        "\tcv = StratifiedKFold(n_splits=5)\n",
        "\t# evaluate the model and collect the results\n",
        "\tscores = cross_val_score(model, x, y, scoring='accuracy', cv=cv, n_jobs=-1)\n",
        "\treturn scores"
      ],
      "execution_count": null,
      "outputs": []
    },
    {
      "cell_type": "code",
      "metadata": {
        "id": "QRZiG79HY3xr",
        "colab": {
          "base_uri": "https://localhost:8080/"
        },
        "outputId": "869f97a9-0566-410c-f127-e4921112e168"
      },
      "source": [
        "# Summarize the performance by getting mean and standard deviation of scores\n",
        "from matplotlib import pyplot\n",
        "models = get_models()\n",
        "\n",
        "results, names, means = list(), list(), list()\n",
        "for name, model in models.items():\n",
        "\n",
        " scores = evaluate_model(model, x, y)\n",
        " print(scores)\n",
        "\t\n",
        " results.append(scores)\n",
        " names.append(name)\n",
        " means.append(scores.mean())\n",
        "\n",
        " print('At  %s, mean is %.3f and standard deviation is (%.3f)' % (name, scores.mean(), scores.std()))\n",
        " print(\"\\n\")"
      ],
      "execution_count": null,
      "outputs": [
        {
          "output_type": "stream",
          "text": [
            "[0.325      0.52       0.36       0.48       0.69849246]\n",
            "At  2, mean is 0.477 and standard deviation is (0.132)\n",
            "\n",
            "\n",
            "[0.305      0.375      0.445      0.31       0.74371859]\n",
            "At  3, mean is 0.436 and standard deviation is (0.162)\n",
            "\n",
            "\n",
            "[0.445      0.475      0.355      0.395      0.71356784]\n",
            "At  4, mean is 0.477 and standard deviation is (0.125)\n",
            "\n",
            "\n"
          ],
          "name": "stdout"
        }
      ]
    },
    {
      "cell_type": "code",
      "metadata": {
        "colab": {
          "base_uri": "https://localhost:8080/",
          "height": 265
        },
        "id": "kWfboj2zmgaA",
        "outputId": "3b8c6494-2d8f-4b30-f8d8-794d7346649e"
      },
      "source": [
        "# Plot the model performance for comparison using boxplot\n",
        "pyplot.boxplot(results, labels=names, showmeans=True)\n",
        "pyplot.show()"
      ],
      "execution_count": null,
      "outputs": [
        {
          "output_type": "display_data",
          "data": {
            "image/png": "[encoded data removed]",
            "text/plain": [
              "<Figure size 432x288 with 1 Axes>"
            ]
          },
          "metadata": {
            "tags": [],
            "needs_background": "light"
          }
        }
      ]
    },
    {
      "cell_type": "code",
      "metadata": {
        "colab": {
          "base_uri": "https://localhost:8080/"
        },
        "id": "ru5nyhvTLMmA",
        "outputId": "05b06062-62b0-42b1-b68d-a735cb76b74c"
      },
      "source": [
        "# Compare the best performance of bagging with random forest\n",
        "i = means.index(max(means))\n",
        "rf_score = clf.score(x_test,y_test)\n",
        "print('The best performance of bagging is achieved at',(i+1)/10)\n",
        "print('Accuracy of bagging model: ',max(means))\n",
        "print('Accuracy of random forest model: ', rf_score)\n",
        "print('\\n')\n",
        "\n",
        "if rf_score>max(means):\n",
        "  print('Random forest model performed better')\n",
        "elif max(means)>rf_score:\n",
        "  print('Bagging model performed bettter')\n",
        "else:\n",
        "  print('Both models were equally good')"
      ],
      "execution_count": null,
      "outputs": [
        {
          "output_type": "stream",
          "text": [
            "The best performance of bagging is achieved at 0.3\n",
            "Accuracy of bagging model:  0.47671356783919594\n",
            "Accuracy of random forest model:  0.7587939698492462\n",
            "\n",
            "\n",
            "Random forest model performed better\n"
          ],
          "name": "stdout"
        }
      ]
    },
    {
      "cell_type": "code",
      "metadata": {
        "colab": {
          "base_uri": "https://localhost:8080/",
          "height": 265
        },
        "id": "lcEHHex2xgJp",
        "outputId": "bb2a8115-92e9-45a4-992b-82b884488b04"
      },
      "source": [
        "result = [[0.445,0.475,0.355,0.395, 0.71356784],[0.82446429, 0.76470238, 0.87071429, 0.80029762, 0.78770983]] #from the best performances\n",
        "n=['bagging','random forest']\n",
        "pyplot.boxplot(result, labels=n, showmeans=True)\n",
        "pyplot.show()"
      ],
      "execution_count": 596,
      "outputs": [
        {
          "output_type": "display_data",
          "data": {
            "image/png": "[encoded data removed]",
            "text/plain": [
              "<Figure size 432x288 with 1 Axes>"
            ]
          },
          "metadata": {
            "tags": [],
            "needs_background": "light"
          }
        }
      ]
    },
    {
      "cell_type": "code",
      "metadata": {
        "colab": {
          "base_uri": "https://localhost:8080/"
        },
        "id": "RIWXHPmeLP_E",
        "outputId": "a9bf69a3-4fc5-40aa-d55f-6ec2bb1f3649"
      },
      "source": [
        "#Tuning Bagging classifier for best parameters\n",
        "from sklearn.model_selection import RandomizedSearchCV\n",
        "params = {\n",
        "    \"n_estimators\" : [5,10,15,20,25,30],\n",
        "    \"max_samples\" : [0.1,0.2,0.3,0.4,0.5,0.6,0.7,0.8,0.9,1.0]\n",
        "}\n",
        "random_search = RandomizedSearchCV(BaggingClassifier(),param_distributions=params, n_iter=5, scoring = 'roc_auc', \n",
        "                                   n_jobs = -1, cv=5, verbose = 3)\n",
        "random_search.fit(x_train,y_train)"
      ],
      "execution_count": null,
      "outputs": [
        {
          "output_type": "stream",
          "text": [
            "Fitting 5 folds for each of 5 candidates, totalling 25 fits\n"
          ],
          "name": "stdout"
        },
        {
          "output_type": "stream",
          "text": [
            "[Parallel(n_jobs=-1)]: Using backend LokyBackend with 2 concurrent workers.\n",
            "[Parallel(n_jobs=-1)]: Done  25 out of  25 | elapsed:    0.6s finished\n"
          ],
          "name": "stderr"
        },
        {
          "output_type": "execute_result",
          "data": {
            "text/plain": [
              "RandomizedSearchCV(cv=5, error_score=nan,\n",
              "                   estimator=BaggingClassifier(base_estimator=None,\n",
              "                                               bootstrap=True,\n",
              "                                               bootstrap_features=False,\n",
              "                                               max_features=1.0,\n",
              "                                               max_samples=1.0, n_estimators=10,\n",
              "                                               n_jobs=None, oob_score=False,\n",
              "                                               random_state=None, verbose=0,\n",
              "                                               warm_start=False),\n",
              "                   iid='deprecated', n_iter=5, n_jobs=-1,\n",
              "                   param_distributions={'max_samples': [0.1, 0.2, 0.3, 0.4, 0.5,\n",
              "                                                        0.6, 0.7, 0.8, 0.9,\n",
              "                                                        1.0],\n",
              "                                        'n_estimators': [5, 10, 15, 20, 25,\n",
              "                                                         30]},\n",
              "                   pre_dispatch='2*n_jobs', random_state=None, refit=True,\n",
              "                   return_train_score=False, scoring='roc_auc', verbose=3)"
            ]
          },
          "metadata": {
            "tags": []
          },
          "execution_count": 589
        }
      ]
    },
    {
      "cell_type": "code",
      "metadata": {
        "colab": {
          "base_uri": "https://localhost:8080/"
        },
        "id": "QAHLRLB8LUVw",
        "outputId": "91c8c5f0-897f-45bb-8f3a-48575172bd1f"
      },
      "source": [
        "random_search.best_estimator_"
      ],
      "execution_count": null,
      "outputs": [
        {
          "output_type": "execute_result",
          "data": {
            "text/plain": [
              "BaggingClassifier(base_estimator=None, bootstrap=True, bootstrap_features=False,\n",
              "                  max_features=1.0, max_samples=0.4, n_estimators=10,\n",
              "                  n_jobs=None, oob_score=False, random_state=None, verbose=0,\n",
              "                  warm_start=False)"
            ]
          },
          "metadata": {
            "tags": []
          },
          "execution_count": 590
        }
      ]
    },
    {
      "cell_type": "code",
      "metadata": {
        "id": "t-p0DA7UZIaH",
        "colab": {
          "base_uri": "https://localhost:8080/"
        },
        "outputId": "ef4526f3-1f1a-45e8-924e-acb8aad78501"
      },
      "source": [
        "bg = BaggingClassifier(max_samples = random_search.best_params_['max_samples'],n_estimators=random_search.best_params_['n_estimators'])\n",
        "bg.fit(x_train,y_train)\n",
        "bg.score(x_test,y_test)"
      ],
      "execution_count": null,
      "outputs": [
        {
          "output_type": "execute_result",
          "data": {
            "text/plain": [
              "0.7688442211055276"
            ]
          },
          "metadata": {
            "tags": []
          },
          "execution_count": 591
        }
      ]
    },
    {
      "cell_type": "code",
      "metadata": {
        "id": "bB66ofK1ZLvO"
      },
      "source": [
        "# References\n"
      ],
      "execution_count": null,
      "outputs": []
    }
  ]
}